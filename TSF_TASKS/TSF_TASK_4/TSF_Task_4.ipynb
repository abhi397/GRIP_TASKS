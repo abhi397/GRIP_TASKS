{
  "nbformat": 4,
  "nbformat_minor": 0,
  "metadata": {
    "colab": {
      "name": "TSF Task-5.ipynb",
      "provenance": [],
      "collapsed_sections": [],
      "toc_visible": true
    },
    "kernelspec": {
      "display_name": "Python 3",
      "language": "python",
      "name": "python3"
    },
    "language_info": {
      "codemirror_mode": {
        "name": "ipython",
        "version": 3
      },
      "file_extension": ".py",
      "mimetype": "text/x-python",
      "name": "python",
      "nbconvert_exporter": "python",
      "pygments_lexer": "ipython3",
      "version": "3.8.5"
    }
  },
  "cells": [
    {
      "cell_type": "markdown",
      "metadata": {
        "id": "hPm7DUx_Mo29"
      },
      "source": [
        "# Author : ABHIJEET MAHAJAN\n",
        "# GRIP AUGUST 2021 @THESPARKSFOUNDATION\n",
        "## Technical Task : \n",
        "## Exploratory Data Analysis - Sports (Level - Advanced)"
      ]
    },
    {
      "cell_type": "markdown",
      "metadata": {
        "id": "mweGH03SMorZ"
      },
      "source": [
        "In this task, we will be performing exploratory data analysis on the dataset \"Sport\" and try to find out the best team in IPL. Also, we will find the best bolwer and various insights.\n",
        "\n",
        "The steps demonstrated in this notebook are:\n",
        "\n",
        " 1. Loading the data\n",
        " 2. Familiarizing with data\n",
        " 3. Visualizing the data\n",
        " 4. Data Analysis\n",
        " 5. Conclusion"
      ]
    },
    {
      "cell_type": "markdown",
      "metadata": {
        "id": "_l3_ohC7AT_r"
      },
      "source": [
        "## 1. Loading Data:\n",
        "\n",
        "   The dataset is borrowed from https://bit.ly/34SRn3b . "
      ]
    },
    {
      "cell_type": "code",
      "metadata": {
        "id": "YJ478_bGMndD"
      },
      "source": [
        "#importing required libraries\n",
        "\n",
        "import pandas as pd\n",
        "import numpy as np\n",
        "import matplotlib.pyplot as plt\n",
        "import seaborn as sns\n",
        "import warnings\n",
        "warnings.filterwarnings(\"ignore\")\n",
        "%matplotlib inline"
      ],
      "execution_count": 1,
      "outputs": []
    },
    {
      "cell_type": "code",
      "metadata": {
        "colab": {
          "base_uri": "https://localhost:8080/",
          "height": 391
        },
        "id": "q5Ur5z2oNV88",
        "outputId": "7424bd2e-0e53-4e44-d194-83a4488a5a60"
      },
      "source": [
        "#Loading data into dataframe\n",
        "\n",
        "data_deliveries = pd.read_csv('deliveries.csv')\n",
        "data_deliveries.head()"
      ],
      "execution_count": 2,
      "outputs": [
        {
          "output_type": "execute_result",
          "data": {
            "text/html": [
              "<div>\n",
              "<style scoped>\n",
              "    .dataframe tbody tr th:only-of-type {\n",
              "        vertical-align: middle;\n",
              "    }\n",
              "\n",
              "    .dataframe tbody tr th {\n",
              "        vertical-align: top;\n",
              "    }\n",
              "\n",
              "    .dataframe thead th {\n",
              "        text-align: right;\n",
              "    }\n",
              "</style>\n",
              "<table border=\"1\" class=\"dataframe\">\n",
              "  <thead>\n",
              "    <tr style=\"text-align: right;\">\n",
              "      <th></th>\n",
              "      <th>match_id</th>\n",
              "      <th>inning</th>\n",
              "      <th>batting_team</th>\n",
              "      <th>bowling_team</th>\n",
              "      <th>over</th>\n",
              "      <th>ball</th>\n",
              "      <th>batsman</th>\n",
              "      <th>non_striker</th>\n",
              "      <th>bowler</th>\n",
              "      <th>is_super_over</th>\n",
              "      <th>wide_runs</th>\n",
              "      <th>bye_runs</th>\n",
              "      <th>legbye_runs</th>\n",
              "      <th>noball_runs</th>\n",
              "      <th>penalty_runs</th>\n",
              "      <th>batsman_runs</th>\n",
              "      <th>extra_runs</th>\n",
              "      <th>total_runs</th>\n",
              "      <th>player_dismissed</th>\n",
              "      <th>dismissal_kind</th>\n",
              "      <th>fielder</th>\n",
              "    </tr>\n",
              "  </thead>\n",
              "  <tbody>\n",
              "    <tr>\n",
              "      <th>0</th>\n",
              "      <td>1</td>\n",
              "      <td>1</td>\n",
              "      <td>Sunrisers Hyderabad</td>\n",
              "      <td>Royal Challengers Bangalore</td>\n",
              "      <td>1</td>\n",
              "      <td>1</td>\n",
              "      <td>DA Warner</td>\n",
              "      <td>S Dhawan</td>\n",
              "      <td>TS Mills</td>\n",
              "      <td>0</td>\n",
              "      <td>0</td>\n",
              "      <td>0.0</td>\n",
              "      <td>0.0</td>\n",
              "      <td>0.0</td>\n",
              "      <td>0.0</td>\n",
              "      <td>0.0</td>\n",
              "      <td>0.0</td>\n",
              "      <td>0.0</td>\n",
              "      <td>NaN</td>\n",
              "      <td>NaN</td>\n",
              "      <td>NaN</td>\n",
              "    </tr>\n",
              "    <tr>\n",
              "      <th>1</th>\n",
              "      <td>1</td>\n",
              "      <td>1</td>\n",
              "      <td>Sunrisers Hyderabad</td>\n",
              "      <td>Royal Challengers Bangalore</td>\n",
              "      <td>1</td>\n",
              "      <td>2</td>\n",
              "      <td>DA Warner</td>\n",
              "      <td>S Dhawan</td>\n",
              "      <td>TS Mills</td>\n",
              "      <td>0</td>\n",
              "      <td>0</td>\n",
              "      <td>0.0</td>\n",
              "      <td>0.0</td>\n",
              "      <td>0.0</td>\n",
              "      <td>0.0</td>\n",
              "      <td>0.0</td>\n",
              "      <td>0.0</td>\n",
              "      <td>0.0</td>\n",
              "      <td>NaN</td>\n",
              "      <td>NaN</td>\n",
              "      <td>NaN</td>\n",
              "    </tr>\n",
              "    <tr>\n",
              "      <th>2</th>\n",
              "      <td>1</td>\n",
              "      <td>1</td>\n",
              "      <td>Sunrisers Hyderabad</td>\n",
              "      <td>Royal Challengers Bangalore</td>\n",
              "      <td>1</td>\n",
              "      <td>3</td>\n",
              "      <td>DA Warner</td>\n",
              "      <td>S Dhawan</td>\n",
              "      <td>TS Mills</td>\n",
              "      <td>0</td>\n",
              "      <td>0</td>\n",
              "      <td>0.0</td>\n",
              "      <td>0.0</td>\n",
              "      <td>0.0</td>\n",
              "      <td>0.0</td>\n",
              "      <td>4.0</td>\n",
              "      <td>0.0</td>\n",
              "      <td>4.0</td>\n",
              "      <td>NaN</td>\n",
              "      <td>NaN</td>\n",
              "      <td>NaN</td>\n",
              "    </tr>\n",
              "    <tr>\n",
              "      <th>3</th>\n",
              "      <td>1</td>\n",
              "      <td>1</td>\n",
              "      <td>Sunrisers Hyderabad</td>\n",
              "      <td>Royal Challengers Bangalore</td>\n",
              "      <td>1</td>\n",
              "      <td>4</td>\n",
              "      <td>DA Warner</td>\n",
              "      <td>S Dhawan</td>\n",
              "      <td>TS Mills</td>\n",
              "      <td>0</td>\n",
              "      <td>0</td>\n",
              "      <td>0.0</td>\n",
              "      <td>0.0</td>\n",
              "      <td>0.0</td>\n",
              "      <td>0.0</td>\n",
              "      <td>0.0</td>\n",
              "      <td>0.0</td>\n",
              "      <td>0.0</td>\n",
              "      <td>NaN</td>\n",
              "      <td>NaN</td>\n",
              "      <td>NaN</td>\n",
              "    </tr>\n",
              "    <tr>\n",
              "      <th>4</th>\n",
              "      <td>1</td>\n",
              "      <td>1</td>\n",
              "      <td>Sunrisers Hyderabad</td>\n",
              "      <td>Royal Challengers Bangalore</td>\n",
              "      <td>1</td>\n",
              "      <td>5</td>\n",
              "      <td>DA Warner</td>\n",
              "      <td>S Dhawan</td>\n",
              "      <td>TS Mills</td>\n",
              "      <td>0</td>\n",
              "      <td>2</td>\n",
              "      <td>0.0</td>\n",
              "      <td>0.0</td>\n",
              "      <td>0.0</td>\n",
              "      <td>0.0</td>\n",
              "      <td>0.0</td>\n",
              "      <td>2.0</td>\n",
              "      <td>2.0</td>\n",
              "      <td>NaN</td>\n",
              "      <td>NaN</td>\n",
              "      <td>NaN</td>\n",
              "    </tr>\n",
              "  </tbody>\n",
              "</table>\n",
              "</div>"
            ],
            "text/plain": [
              "   match_id  inning  ... dismissal_kind fielder\n",
              "0         1       1  ...            NaN     NaN\n",
              "1         1       1  ...            NaN     NaN\n",
              "2         1       1  ...            NaN     NaN\n",
              "3         1       1  ...            NaN     NaN\n",
              "4         1       1  ...            NaN     NaN\n",
              "\n",
              "[5 rows x 21 columns]"
            ]
          },
          "metadata": {
            "tags": []
          },
          "execution_count": 2
        }
      ]
    },
    {
      "cell_type": "code",
      "metadata": {
        "id": "rdXymdklSaIT",
        "colab": {
          "base_uri": "https://localhost:8080/",
          "height": 442
        },
        "outputId": "89ce0884-ea9f-4f80-9d71-f7b51d817f6f"
      },
      "source": [
        "#Loading data into dataframe\n",
        "\n",
        "data_matches = pd.read_csv('matches.csv')\n",
        "data_matches.head()"
      ],
      "execution_count": 3,
      "outputs": [
        {
          "output_type": "execute_result",
          "data": {
            "text/html": [
              "<div>\n",
              "<style scoped>\n",
              "    .dataframe tbody tr th:only-of-type {\n",
              "        vertical-align: middle;\n",
              "    }\n",
              "\n",
              "    .dataframe tbody tr th {\n",
              "        vertical-align: top;\n",
              "    }\n",
              "\n",
              "    .dataframe thead th {\n",
              "        text-align: right;\n",
              "    }\n",
              "</style>\n",
              "<table border=\"1\" class=\"dataframe\">\n",
              "  <thead>\n",
              "    <tr style=\"text-align: right;\">\n",
              "      <th></th>\n",
              "      <th>id</th>\n",
              "      <th>season</th>\n",
              "      <th>city</th>\n",
              "      <th>date</th>\n",
              "      <th>team1</th>\n",
              "      <th>team2</th>\n",
              "      <th>toss_winner</th>\n",
              "      <th>toss_decision</th>\n",
              "      <th>result</th>\n",
              "      <th>dl_applied</th>\n",
              "      <th>winner</th>\n",
              "      <th>win_by_runs</th>\n",
              "      <th>win_by_wickets</th>\n",
              "      <th>player_of_match</th>\n",
              "      <th>venue</th>\n",
              "      <th>umpire1</th>\n",
              "      <th>umpire2</th>\n",
              "      <th>umpire3</th>\n",
              "    </tr>\n",
              "  </thead>\n",
              "  <tbody>\n",
              "    <tr>\n",
              "      <th>0</th>\n",
              "      <td>1</td>\n",
              "      <td>2017</td>\n",
              "      <td>Hyderabad</td>\n",
              "      <td>2017-04-05</td>\n",
              "      <td>Sunrisers Hyderabad</td>\n",
              "      <td>Royal Challengers Bangalore</td>\n",
              "      <td>Royal Challengers Bangalore</td>\n",
              "      <td>field</td>\n",
              "      <td>normal</td>\n",
              "      <td>0</td>\n",
              "      <td>Sunrisers Hyderabad</td>\n",
              "      <td>35</td>\n",
              "      <td>0</td>\n",
              "      <td>Yuvraj Singh</td>\n",
              "      <td>Rajiv Gandhi International Stadium, Uppal</td>\n",
              "      <td>AY Dandekar</td>\n",
              "      <td>NJ Llong</td>\n",
              "      <td>NaN</td>\n",
              "    </tr>\n",
              "    <tr>\n",
              "      <th>1</th>\n",
              "      <td>2</td>\n",
              "      <td>2017</td>\n",
              "      <td>Pune</td>\n",
              "      <td>2017-04-06</td>\n",
              "      <td>Mumbai Indians</td>\n",
              "      <td>Rising Pune Supergiant</td>\n",
              "      <td>Rising Pune Supergiant</td>\n",
              "      <td>field</td>\n",
              "      <td>normal</td>\n",
              "      <td>0</td>\n",
              "      <td>Rising Pune Supergiant</td>\n",
              "      <td>0</td>\n",
              "      <td>7</td>\n",
              "      <td>SPD Smith</td>\n",
              "      <td>Maharashtra Cricket Association Stadium</td>\n",
              "      <td>A Nand Kishore</td>\n",
              "      <td>S Ravi</td>\n",
              "      <td>NaN</td>\n",
              "    </tr>\n",
              "    <tr>\n",
              "      <th>2</th>\n",
              "      <td>3</td>\n",
              "      <td>2017</td>\n",
              "      <td>Rajkot</td>\n",
              "      <td>2017-04-07</td>\n",
              "      <td>Gujarat Lions</td>\n",
              "      <td>Kolkata Knight Riders</td>\n",
              "      <td>Kolkata Knight Riders</td>\n",
              "      <td>field</td>\n",
              "      <td>normal</td>\n",
              "      <td>0</td>\n",
              "      <td>Kolkata Knight Riders</td>\n",
              "      <td>0</td>\n",
              "      <td>10</td>\n",
              "      <td>CA Lynn</td>\n",
              "      <td>Saurashtra Cricket Association Stadium</td>\n",
              "      <td>Nitin Menon</td>\n",
              "      <td>CK Nandan</td>\n",
              "      <td>NaN</td>\n",
              "    </tr>\n",
              "    <tr>\n",
              "      <th>3</th>\n",
              "      <td>4</td>\n",
              "      <td>2017</td>\n",
              "      <td>Indore</td>\n",
              "      <td>2017-04-08</td>\n",
              "      <td>Rising Pune Supergiant</td>\n",
              "      <td>Kings XI Punjab</td>\n",
              "      <td>Kings XI Punjab</td>\n",
              "      <td>field</td>\n",
              "      <td>normal</td>\n",
              "      <td>0</td>\n",
              "      <td>Kings XI Punjab</td>\n",
              "      <td>0</td>\n",
              "      <td>6</td>\n",
              "      <td>GJ Maxwell</td>\n",
              "      <td>Holkar Cricket Stadium</td>\n",
              "      <td>AK Chaudhary</td>\n",
              "      <td>C Shamshuddin</td>\n",
              "      <td>NaN</td>\n",
              "    </tr>\n",
              "    <tr>\n",
              "      <th>4</th>\n",
              "      <td>5</td>\n",
              "      <td>2017</td>\n",
              "      <td>Bangalore</td>\n",
              "      <td>2017-04-08</td>\n",
              "      <td>Royal Challengers Bangalore</td>\n",
              "      <td>Delhi Daredevils</td>\n",
              "      <td>Royal Challengers Bangalore</td>\n",
              "      <td>bat</td>\n",
              "      <td>normal</td>\n",
              "      <td>0</td>\n",
              "      <td>Royal Challengers Bangalore</td>\n",
              "      <td>15</td>\n",
              "      <td>0</td>\n",
              "      <td>KM Jadhav</td>\n",
              "      <td>M Chinnaswamy Stadium</td>\n",
              "      <td>NaN</td>\n",
              "      <td>NaN</td>\n",
              "      <td>NaN</td>\n",
              "    </tr>\n",
              "  </tbody>\n",
              "</table>\n",
              "</div>"
            ],
            "text/plain": [
              "   id  season       city  ...         umpire1        umpire2 umpire3\n",
              "0   1    2017  Hyderabad  ...     AY Dandekar       NJ Llong     NaN\n",
              "1   2    2017       Pune  ...  A Nand Kishore         S Ravi     NaN\n",
              "2   3    2017     Rajkot  ...     Nitin Menon      CK Nandan     NaN\n",
              "3   4    2017     Indore  ...    AK Chaudhary  C Shamshuddin     NaN\n",
              "4   5    2017  Bangalore  ...             NaN            NaN     NaN\n",
              "\n",
              "[5 rows x 18 columns]"
            ]
          },
          "metadata": {
            "tags": []
          },
          "execution_count": 3
        }
      ]
    },
    {
      "cell_type": "markdown",
      "metadata": {
        "id": "htNu8pMuSdx4",
        "outputId": "22d72829-6369-45a4-d62d-56eace197052"
      },
      "source": [
        "## 2. Familiarizing with Data:\n",
        "In this step, few dataframe methods are used to look into the data and its features."
      ]
    },
    {
      "cell_type": "markdown",
      "metadata": {
        "id": "e9AlILjFAT_x"
      },
      "source": [
        "### *Analysing Deliveries Dataset*"
      ]
    },
    {
      "cell_type": "code",
      "metadata": {
        "colab": {
          "base_uri": "https://localhost:8080/"
        },
        "id": "ThkqbVqbAT_y",
        "outputId": "e12270b5-a072-4d72-e3dd-61daa675f786"
      },
      "source": [
        "#Shape of dataframe\n",
        "\n",
        "data_deliveries.shape"
      ],
      "execution_count": 4,
      "outputs": [
        {
          "output_type": "execute_result",
          "data": {
            "text/plain": [
              "(41304, 21)"
            ]
          },
          "metadata": {
            "tags": []
          },
          "execution_count": 4
        }
      ]
    },
    {
      "cell_type": "code",
      "metadata": {
        "colab": {
          "base_uri": "https://localhost:8080/"
        },
        "id": "YpX5AjDbAT_0",
        "outputId": "593a62d3-6634-4834-897b-7e2e622e6c37"
      },
      "source": [
        "#Listing the features of the dataset\n",
        "\n",
        "data_deliveries.columns"
      ],
      "execution_count": 5,
      "outputs": [
        {
          "output_type": "execute_result",
          "data": {
            "text/plain": [
              "Index(['match_id', 'inning', 'batting_team', 'bowling_team', 'over', 'ball',\n",
              "       'batsman', 'non_striker', 'bowler', 'is_super_over', 'wide_runs',\n",
              "       'bye_runs', 'legbye_runs', 'noball_runs', 'penalty_runs',\n",
              "       'batsman_runs', 'extra_runs', 'total_runs', 'player_dismissed',\n",
              "       'dismissal_kind', 'fielder'],\n",
              "      dtype='object')"
            ]
          },
          "metadata": {
            "tags": []
          },
          "execution_count": 5
        }
      ]
    },
    {
      "cell_type": "code",
      "metadata": {
        "colab": {
          "base_uri": "https://localhost:8080/"
        },
        "id": "syzCA0P3AT_0",
        "outputId": "2ef4ffc7-1dc4-4b1f-b925-7da7c394094c"
      },
      "source": [
        "#Information about the dataset\n",
        "\n",
        "data_deliveries.info()"
      ],
      "execution_count": 6,
      "outputs": [
        {
          "output_type": "stream",
          "text": [
            "<class 'pandas.core.frame.DataFrame'>\n",
            "RangeIndex: 41304 entries, 0 to 41303\n",
            "Data columns (total 21 columns):\n",
            " #   Column            Non-Null Count  Dtype  \n",
            "---  ------            --------------  -----  \n",
            " 0   match_id          41304 non-null  int64  \n",
            " 1   inning            41304 non-null  int64  \n",
            " 2   batting_team      41304 non-null  object \n",
            " 3   bowling_team      41304 non-null  object \n",
            " 4   over              41304 non-null  int64  \n",
            " 5   ball              41304 non-null  int64  \n",
            " 6   batsman           41304 non-null  object \n",
            " 7   non_striker       41304 non-null  object \n",
            " 8   bowler            41304 non-null  object \n",
            " 9   is_super_over     41304 non-null  int64  \n",
            " 10  wide_runs         41304 non-null  int64  \n",
            " 11  bye_runs          41303 non-null  float64\n",
            " 12  legbye_runs       41303 non-null  float64\n",
            " 13  noball_runs       41303 non-null  float64\n",
            " 14  penalty_runs      41303 non-null  float64\n",
            " 15  batsman_runs      41303 non-null  float64\n",
            " 16  extra_runs        41303 non-null  float64\n",
            " 17  total_runs        41303 non-null  float64\n",
            " 18  player_dismissed  2113 non-null   object \n",
            " 19  dismissal_kind    2113 non-null   object \n",
            " 20  fielder           1525 non-null   object \n",
            "dtypes: float64(7), int64(6), object(8)\n",
            "memory usage: 6.6+ MB\n"
          ],
          "name": "stdout"
        }
      ]
    },
    {
      "cell_type": "code",
      "metadata": {
        "colab": {
          "base_uri": "https://localhost:8080/"
        },
        "id": "SlM6UBsPAT_0",
        "outputId": "98489f7f-1eea-44b8-a016-a381e3e7f8e4"
      },
      "source": [
        "#checking for null value\n",
        "\n",
        "data_deliveries.isna().sum()"
      ],
      "execution_count": 7,
      "outputs": [
        {
          "output_type": "execute_result",
          "data": {
            "text/plain": [
              "match_id                0\n",
              "inning                  0\n",
              "batting_team            0\n",
              "bowling_team            0\n",
              "over                    0\n",
              "ball                    0\n",
              "batsman                 0\n",
              "non_striker             0\n",
              "bowler                  0\n",
              "is_super_over           0\n",
              "wide_runs               0\n",
              "bye_runs                1\n",
              "legbye_runs             1\n",
              "noball_runs             1\n",
              "penalty_runs            1\n",
              "batsman_runs            1\n",
              "extra_runs              1\n",
              "total_runs              1\n",
              "player_dismissed    39191\n",
              "dismissal_kind      39191\n",
              "fielder             39779\n",
              "dtype: int64"
            ]
          },
          "metadata": {
            "tags": []
          },
          "execution_count": 7
        }
      ]
    },
    {
      "cell_type": "code",
      "metadata": {
        "colab": {
          "base_uri": "https://localhost:8080/",
          "height": 450
        },
        "id": "Gg9BptF_AT_1",
        "outputId": "f4b6b9c5-b415-41ab-bf1f-9850869f77fe"
      },
      "source": [
        "# describtion of dataset\n",
        "\n",
        "data_deliveries.describe().T"
      ],
      "execution_count": 8,
      "outputs": [
        {
          "output_type": "execute_result",
          "data": {
            "text/html": [
              "<div>\n",
              "<style scoped>\n",
              "    .dataframe tbody tr th:only-of-type {\n",
              "        vertical-align: middle;\n",
              "    }\n",
              "\n",
              "    .dataframe tbody tr th {\n",
              "        vertical-align: top;\n",
              "    }\n",
              "\n",
              "    .dataframe thead th {\n",
              "        text-align: right;\n",
              "    }\n",
              "</style>\n",
              "<table border=\"1\" class=\"dataframe\">\n",
              "  <thead>\n",
              "    <tr style=\"text-align: right;\">\n",
              "      <th></th>\n",
              "      <th>count</th>\n",
              "      <th>mean</th>\n",
              "      <th>std</th>\n",
              "      <th>min</th>\n",
              "      <th>25%</th>\n",
              "      <th>50%</th>\n",
              "      <th>75%</th>\n",
              "      <th>max</th>\n",
              "    </tr>\n",
              "  </thead>\n",
              "  <tbody>\n",
              "    <tr>\n",
              "      <th>match_id</th>\n",
              "      <td>41304.0</td>\n",
              "      <td>88.565224</td>\n",
              "      <td>51.053405</td>\n",
              "      <td>1.0</td>\n",
              "      <td>44.0</td>\n",
              "      <td>88.0</td>\n",
              "      <td>133.0</td>\n",
              "      <td>176.0</td>\n",
              "    </tr>\n",
              "    <tr>\n",
              "      <th>inning</th>\n",
              "      <td>41304.0</td>\n",
              "      <td>1.478404</td>\n",
              "      <td>0.501860</td>\n",
              "      <td>1.0</td>\n",
              "      <td>1.0</td>\n",
              "      <td>1.0</td>\n",
              "      <td>2.0</td>\n",
              "      <td>4.0</td>\n",
              "    </tr>\n",
              "    <tr>\n",
              "      <th>over</th>\n",
              "      <td>41304.0</td>\n",
              "      <td>10.075852</td>\n",
              "      <td>5.668132</td>\n",
              "      <td>1.0</td>\n",
              "      <td>5.0</td>\n",
              "      <td>10.0</td>\n",
              "      <td>15.0</td>\n",
              "      <td>20.0</td>\n",
              "    </tr>\n",
              "    <tr>\n",
              "      <th>ball</th>\n",
              "      <td>41304.0</td>\n",
              "      <td>3.625218</td>\n",
              "      <td>1.814553</td>\n",
              "      <td>1.0</td>\n",
              "      <td>2.0</td>\n",
              "      <td>4.0</td>\n",
              "      <td>5.0</td>\n",
              "      <td>9.0</td>\n",
              "    </tr>\n",
              "    <tr>\n",
              "      <th>is_super_over</th>\n",
              "      <td>41304.0</td>\n",
              "      <td>0.000581</td>\n",
              "      <td>0.024098</td>\n",
              "      <td>0.0</td>\n",
              "      <td>0.0</td>\n",
              "      <td>0.0</td>\n",
              "      <td>0.0</td>\n",
              "      <td>1.0</td>\n",
              "    </tr>\n",
              "    <tr>\n",
              "      <th>wide_runs</th>\n",
              "      <td>41304.0</td>\n",
              "      <td>0.039173</td>\n",
              "      <td>0.257781</td>\n",
              "      <td>0.0</td>\n",
              "      <td>0.0</td>\n",
              "      <td>0.0</td>\n",
              "      <td>0.0</td>\n",
              "      <td>5.0</td>\n",
              "    </tr>\n",
              "    <tr>\n",
              "      <th>bye_runs</th>\n",
              "      <td>41303.0</td>\n",
              "      <td>0.005060</td>\n",
              "      <td>0.114971</td>\n",
              "      <td>0.0</td>\n",
              "      <td>0.0</td>\n",
              "      <td>0.0</td>\n",
              "      <td>0.0</td>\n",
              "      <td>4.0</td>\n",
              "    </tr>\n",
              "    <tr>\n",
              "      <th>legbye_runs</th>\n",
              "      <td>41303.0</td>\n",
              "      <td>0.023509</td>\n",
              "      <td>0.205499</td>\n",
              "      <td>0.0</td>\n",
              "      <td>0.0</td>\n",
              "      <td>0.0</td>\n",
              "      <td>0.0</td>\n",
              "      <td>5.0</td>\n",
              "    </tr>\n",
              "    <tr>\n",
              "      <th>noball_runs</th>\n",
              "      <td>41303.0</td>\n",
              "      <td>0.004939</td>\n",
              "      <td>0.074460</td>\n",
              "      <td>0.0</td>\n",
              "      <td>0.0</td>\n",
              "      <td>0.0</td>\n",
              "      <td>0.0</td>\n",
              "      <td>5.0</td>\n",
              "    </tr>\n",
              "    <tr>\n",
              "      <th>penalty_runs</th>\n",
              "      <td>41303.0</td>\n",
              "      <td>0.000121</td>\n",
              "      <td>0.024602</td>\n",
              "      <td>0.0</td>\n",
              "      <td>0.0</td>\n",
              "      <td>0.0</td>\n",
              "      <td>0.0</td>\n",
              "      <td>5.0</td>\n",
              "    </tr>\n",
              "    <tr>\n",
              "      <th>batsman_runs</th>\n",
              "      <td>41303.0</td>\n",
              "      <td>1.223253</td>\n",
              "      <td>1.607151</td>\n",
              "      <td>0.0</td>\n",
              "      <td>0.0</td>\n",
              "      <td>1.0</td>\n",
              "      <td>1.0</td>\n",
              "      <td>6.0</td>\n",
              "    </tr>\n",
              "    <tr>\n",
              "      <th>extra_runs</th>\n",
              "      <td>41303.0</td>\n",
              "      <td>0.072803</td>\n",
              "      <td>0.353393</td>\n",
              "      <td>0.0</td>\n",
              "      <td>0.0</td>\n",
              "      <td>0.0</td>\n",
              "      <td>0.0</td>\n",
              "      <td>5.0</td>\n",
              "    </tr>\n",
              "    <tr>\n",
              "      <th>total_runs</th>\n",
              "      <td>41303.0</td>\n",
              "      <td>1.296056</td>\n",
              "      <td>1.594700</td>\n",
              "      <td>0.0</td>\n",
              "      <td>0.0</td>\n",
              "      <td>1.0</td>\n",
              "      <td>1.0</td>\n",
              "      <td>7.0</td>\n",
              "    </tr>\n",
              "  </tbody>\n",
              "</table>\n",
              "</div>"
            ],
            "text/plain": [
              "                 count       mean        std  min   25%   50%    75%    max\n",
              "match_id       41304.0  88.565224  51.053405  1.0  44.0  88.0  133.0  176.0\n",
              "inning         41304.0   1.478404   0.501860  1.0   1.0   1.0    2.0    4.0\n",
              "over           41304.0  10.075852   5.668132  1.0   5.0  10.0   15.0   20.0\n",
              "ball           41304.0   3.625218   1.814553  1.0   2.0   4.0    5.0    9.0\n",
              "is_super_over  41304.0   0.000581   0.024098  0.0   0.0   0.0    0.0    1.0\n",
              "wide_runs      41304.0   0.039173   0.257781  0.0   0.0   0.0    0.0    5.0\n",
              "bye_runs       41303.0   0.005060   0.114971  0.0   0.0   0.0    0.0    4.0\n",
              "legbye_runs    41303.0   0.023509   0.205499  0.0   0.0   0.0    0.0    5.0\n",
              "noball_runs    41303.0   0.004939   0.074460  0.0   0.0   0.0    0.0    5.0\n",
              "penalty_runs   41303.0   0.000121   0.024602  0.0   0.0   0.0    0.0    5.0\n",
              "batsman_runs   41303.0   1.223253   1.607151  0.0   0.0   1.0    1.0    6.0\n",
              "extra_runs     41303.0   0.072803   0.353393  0.0   0.0   0.0    0.0    5.0\n",
              "total_runs     41303.0   1.296056   1.594700  0.0   0.0   1.0    1.0    7.0"
            ]
          },
          "metadata": {
            "tags": []
          },
          "execution_count": 8
        }
      ]
    },
    {
      "cell_type": "code",
      "metadata": {
        "colab": {
          "base_uri": "https://localhost:8080/"
        },
        "id": "hk1vvfydAT_1",
        "outputId": "12013ae2-b766-4d19-e6b9-d8a4506f0fdc"
      },
      "source": [
        "#unique value in dataset\n",
        "\n",
        "data_deliveries.nunique()                                    "
      ],
      "execution_count": 9,
      "outputs": [
        {
          "output_type": "execute_result",
          "data": {
            "text/plain": [
              "match_id            176\n",
              "inning                4\n",
              "batting_team         11\n",
              "bowling_team         11\n",
              "over                 20\n",
              "ball                  9\n",
              "batsman             308\n",
              "non_striker         304\n",
              "bowler              231\n",
              "is_super_over         2\n",
              "wide_runs             6\n",
              "bye_runs              4\n",
              "legbye_runs           6\n",
              "noball_runs           4\n",
              "penalty_runs          2\n",
              "batsman_runs          7\n",
              "extra_runs            6\n",
              "total_runs            8\n",
              "player_dismissed    286\n",
              "dismissal_kind        8\n",
              "fielder             280\n",
              "dtype: int64"
            ]
          },
          "metadata": {
            "tags": []
          },
          "execution_count": 9
        }
      ]
    },
    {
      "cell_type": "markdown",
      "metadata": {
        "id": "eyMUnIowAT_2"
      },
      "source": [
        "### *Analysing Matches Dataset*"
      ]
    },
    {
      "cell_type": "code",
      "metadata": {
        "colab": {
          "base_uri": "https://localhost:8080/"
        },
        "id": "jzrxTjxGAT_2",
        "outputId": "a3fc3e68-514e-40f2-e1b1-94d79005e7ae"
      },
      "source": [
        "#Shape of dataframe\n",
        "\n",
        "data_matches.shape"
      ],
      "execution_count": 10,
      "outputs": [
        {
          "output_type": "execute_result",
          "data": {
            "text/plain": [
              "(756, 18)"
            ]
          },
          "metadata": {
            "tags": []
          },
          "execution_count": 10
        }
      ]
    },
    {
      "cell_type": "code",
      "metadata": {
        "colab": {
          "base_uri": "https://localhost:8080/"
        },
        "id": "VpCsX2wYAT_3",
        "outputId": "9680ba36-6fa2-49d4-b857-ae324c2dcc3d"
      },
      "source": [
        "#Listing the features of the dataset\n",
        "\n",
        "data_matches.columns"
      ],
      "execution_count": 11,
      "outputs": [
        {
          "output_type": "execute_result",
          "data": {
            "text/plain": [
              "Index(['id', 'season', 'city', 'date', 'team1', 'team2', 'toss_winner',\n",
              "       'toss_decision', 'result', 'dl_applied', 'winner', 'win_by_runs',\n",
              "       'win_by_wickets', 'player_of_match', 'venue', 'umpire1', 'umpire2',\n",
              "       'umpire3'],\n",
              "      dtype='object')"
            ]
          },
          "metadata": {
            "tags": []
          },
          "execution_count": 11
        }
      ]
    },
    {
      "cell_type": "code",
      "metadata": {
        "colab": {
          "base_uri": "https://localhost:8080/"
        },
        "id": "VGu1o1ekAT_3",
        "outputId": "70807513-1b34-4675-9b62-b8cb1c191b40"
      },
      "source": [
        "#Information about the dataset\n",
        "\n",
        "data_matches.info()"
      ],
      "execution_count": 12,
      "outputs": [
        {
          "output_type": "stream",
          "text": [
            "<class 'pandas.core.frame.DataFrame'>\n",
            "RangeIndex: 756 entries, 0 to 755\n",
            "Data columns (total 18 columns):\n",
            " #   Column           Non-Null Count  Dtype \n",
            "---  ------           --------------  ----- \n",
            " 0   id               756 non-null    int64 \n",
            " 1   season           756 non-null    int64 \n",
            " 2   city             749 non-null    object\n",
            " 3   date             756 non-null    object\n",
            " 4   team1            756 non-null    object\n",
            " 5   team2            756 non-null    object\n",
            " 6   toss_winner      756 non-null    object\n",
            " 7   toss_decision    756 non-null    object\n",
            " 8   result           756 non-null    object\n",
            " 9   dl_applied       756 non-null    int64 \n",
            " 10  winner           752 non-null    object\n",
            " 11  win_by_runs      756 non-null    int64 \n",
            " 12  win_by_wickets   756 non-null    int64 \n",
            " 13  player_of_match  752 non-null    object\n",
            " 14  venue            756 non-null    object\n",
            " 15  umpire1          754 non-null    object\n",
            " 16  umpire2          754 non-null    object\n",
            " 17  umpire3          119 non-null    object\n",
            "dtypes: int64(5), object(13)\n",
            "memory usage: 106.4+ KB\n"
          ],
          "name": "stdout"
        }
      ]
    },
    {
      "cell_type": "code",
      "metadata": {
        "colab": {
          "base_uri": "https://localhost:8080/"
        },
        "id": "kjJ3DwJtAT_3",
        "outputId": "b99742c4-2a7f-4ba0-c91a-c9cc5439f18d"
      },
      "source": [
        "#checking for null value\n",
        "\n",
        "data_matches.isna().sum()"
      ],
      "execution_count": 13,
      "outputs": [
        {
          "output_type": "execute_result",
          "data": {
            "text/plain": [
              "id                   0\n",
              "season               0\n",
              "city                 7\n",
              "date                 0\n",
              "team1                0\n",
              "team2                0\n",
              "toss_winner          0\n",
              "toss_decision        0\n",
              "result               0\n",
              "dl_applied           0\n",
              "winner               4\n",
              "win_by_runs          0\n",
              "win_by_wickets       0\n",
              "player_of_match      4\n",
              "venue                0\n",
              "umpire1              2\n",
              "umpire2              2\n",
              "umpire3            637\n",
              "dtype: int64"
            ]
          },
          "metadata": {
            "tags": []
          },
          "execution_count": 13
        }
      ]
    },
    {
      "cell_type": "code",
      "metadata": {
        "colab": {
          "base_uri": "https://localhost:8080/",
          "height": 203
        },
        "id": "d6mMAGWzAT_4",
        "outputId": "86b7a2bb-fce7-4b69-e17d-dd0b5331cbdd"
      },
      "source": [
        "# describtion of dataset\n",
        "\n",
        "data_matches.describe().T"
      ],
      "execution_count": 14,
      "outputs": [
        {
          "output_type": "execute_result",
          "data": {
            "text/html": [
              "<div>\n",
              "<style scoped>\n",
              "    .dataframe tbody tr th:only-of-type {\n",
              "        vertical-align: middle;\n",
              "    }\n",
              "\n",
              "    .dataframe tbody tr th {\n",
              "        vertical-align: top;\n",
              "    }\n",
              "\n",
              "    .dataframe thead th {\n",
              "        text-align: right;\n",
              "    }\n",
              "</style>\n",
              "<table border=\"1\" class=\"dataframe\">\n",
              "  <thead>\n",
              "    <tr style=\"text-align: right;\">\n",
              "      <th></th>\n",
              "      <th>count</th>\n",
              "      <th>mean</th>\n",
              "      <th>std</th>\n",
              "      <th>min</th>\n",
              "      <th>25%</th>\n",
              "      <th>50%</th>\n",
              "      <th>75%</th>\n",
              "      <th>max</th>\n",
              "    </tr>\n",
              "  </thead>\n",
              "  <tbody>\n",
              "    <tr>\n",
              "      <th>id</th>\n",
              "      <td>756.0</td>\n",
              "      <td>1792.178571</td>\n",
              "      <td>3464.478148</td>\n",
              "      <td>1.0</td>\n",
              "      <td>189.75</td>\n",
              "      <td>378.5</td>\n",
              "      <td>567.25</td>\n",
              "      <td>11415.0</td>\n",
              "    </tr>\n",
              "    <tr>\n",
              "      <th>season</th>\n",
              "      <td>756.0</td>\n",
              "      <td>2013.444444</td>\n",
              "      <td>3.366895</td>\n",
              "      <td>2008.0</td>\n",
              "      <td>2011.00</td>\n",
              "      <td>2013.0</td>\n",
              "      <td>2016.00</td>\n",
              "      <td>2019.0</td>\n",
              "    </tr>\n",
              "    <tr>\n",
              "      <th>dl_applied</th>\n",
              "      <td>756.0</td>\n",
              "      <td>0.025132</td>\n",
              "      <td>0.156630</td>\n",
              "      <td>0.0</td>\n",
              "      <td>0.00</td>\n",
              "      <td>0.0</td>\n",
              "      <td>0.00</td>\n",
              "      <td>1.0</td>\n",
              "    </tr>\n",
              "    <tr>\n",
              "      <th>win_by_runs</th>\n",
              "      <td>756.0</td>\n",
              "      <td>13.283069</td>\n",
              "      <td>23.471144</td>\n",
              "      <td>0.0</td>\n",
              "      <td>0.00</td>\n",
              "      <td>0.0</td>\n",
              "      <td>19.00</td>\n",
              "      <td>146.0</td>\n",
              "    </tr>\n",
              "    <tr>\n",
              "      <th>win_by_wickets</th>\n",
              "      <td>756.0</td>\n",
              "      <td>3.350529</td>\n",
              "      <td>3.387963</td>\n",
              "      <td>0.0</td>\n",
              "      <td>0.00</td>\n",
              "      <td>4.0</td>\n",
              "      <td>6.00</td>\n",
              "      <td>10.0</td>\n",
              "    </tr>\n",
              "  </tbody>\n",
              "</table>\n",
              "</div>"
            ],
            "text/plain": [
              "                count         mean          std  ...     50%      75%      max\n",
              "id              756.0  1792.178571  3464.478148  ...   378.5   567.25  11415.0\n",
              "season          756.0  2013.444444     3.366895  ...  2013.0  2016.00   2019.0\n",
              "dl_applied      756.0     0.025132     0.156630  ...     0.0     0.00      1.0\n",
              "win_by_runs     756.0    13.283069    23.471144  ...     0.0    19.00    146.0\n",
              "win_by_wickets  756.0     3.350529     3.387963  ...     4.0     6.00     10.0\n",
              "\n",
              "[5 rows x 8 columns]"
            ]
          },
          "metadata": {
            "tags": []
          },
          "execution_count": 14
        }
      ]
    },
    {
      "cell_type": "code",
      "metadata": {
        "colab": {
          "base_uri": "https://localhost:8080/"
        },
        "id": "TjGmrO9_AT_4",
        "outputId": "d1d4c24a-e0fa-4b15-bfa1-5c9ae5b3cc91"
      },
      "source": [
        "#unique value in dataset\n",
        "\n",
        "data_matches.nunique()                                    "
      ],
      "execution_count": 15,
      "outputs": [
        {
          "output_type": "execute_result",
          "data": {
            "text/plain": [
              "id                 756\n",
              "season              12\n",
              "city                32\n",
              "date               546\n",
              "team1               15\n",
              "team2               15\n",
              "toss_winner         15\n",
              "toss_decision        2\n",
              "result               3\n",
              "dl_applied           2\n",
              "winner              15\n",
              "win_by_runs         89\n",
              "win_by_wickets      11\n",
              "player_of_match    226\n",
              "venue               41\n",
              "umpire1             61\n",
              "umpire2             65\n",
              "umpire3             25\n",
              "dtype: int64"
            ]
          },
          "metadata": {
            "tags": []
          },
          "execution_count": 15
        }
      ]
    },
    {
      "cell_type": "code",
      "metadata": {
        "id": "-MuJIxS7TAlT"
      },
      "source": [
        "data_matches.rename(columns={'win_by_runs':'Bat_1', 'win_by_wickets':'Ball_1'}, inplace=True)"
      ],
      "execution_count": 16,
      "outputs": []
    },
    {
      "cell_type": "code",
      "metadata": {
        "colab": {
          "base_uri": "https://localhost:8080/"
        },
        "id": "7ddYFmdqTJnl",
        "outputId": "99f9a50d-308a-41b9-d67e-b311f5c02279"
      },
      "source": [
        "print(\"City in which most matches have been won        :\",data_matches['city'].value_counts().idxmax()) \n",
        "print(\"Team that has won most matches                  :\",data_matches['winner'].value_counts().idxmax()) \n",
        "print(\"Player who has been man of the match most times :\",data_matches['player_of_match'].value_counts().idxmax()) \n",
        "print(\"Most frequent Umpire 1                          :\" ,data_matches['umpire1'].value_counts().idxmax())\n",
        "print(\"Most frequent Umpire 2                          :\" ,data_matches['umpire2'].value_counts().idxmax())"
      ],
      "execution_count": 17,
      "outputs": [
        {
          "output_type": "stream",
          "text": [
            "City in which most matches have been won        : Mumbai\n",
            "Team that has won most matches                  : Mumbai Indians\n",
            "Player who has been man of the match most times : CH Gayle\n",
            "Most frequent Umpire 1                          : HDPK Dharmasena\n",
            "Most frequent Umpire 2                          : C Shamshuddin\n"
          ],
          "name": "stdout"
        }
      ]
    },
    {
      "cell_type": "code",
      "metadata": {
        "id": "sW2I2gK7TXSP"
      },
      "source": [
        "data_matches['city'].fillna(value='Mumbai', inplace=True)\n",
        "data_matches['winner'].fillna(value='Mumbai Indians', inplace=True)\n",
        "data_matches['player_of_match'].fillna(value='CH Gayle', inplace=True)\n",
        "data_matches['umpire1'].fillna(value='HDPK Dharmasena', inplace=True)\n",
        "data_matches['umpire2'].fillna(value='C Shamshuddin', inplace=True)\n",
        "data_matches['umpire3'].fillna(value='NA', inplace=True)"
      ],
      "execution_count": 18,
      "outputs": []
    },
    {
      "cell_type": "code",
      "metadata": {
        "colab": {
          "base_uri": "https://localhost:8080/"
        },
        "id": "jE4rjGzMTXUy",
        "outputId": "e2c42fa9-3c15-4402-d42b-b174abc0ed4c"
      },
      "source": [
        "data_matches.isnull().sum()"
      ],
      "execution_count": 19,
      "outputs": [
        {
          "output_type": "execute_result",
          "data": {
            "text/plain": [
              "id                 0\n",
              "season             0\n",
              "city               0\n",
              "date               0\n",
              "team1              0\n",
              "team2              0\n",
              "toss_winner        0\n",
              "toss_decision      0\n",
              "result             0\n",
              "dl_applied         0\n",
              "winner             0\n",
              "Bat_1              0\n",
              "Ball_1             0\n",
              "player_of_match    0\n",
              "venue              0\n",
              "umpire1            0\n",
              "umpire2            0\n",
              "umpire3            0\n",
              "dtype: int64"
            ]
          },
          "metadata": {
            "tags": []
          },
          "execution_count": 19
        }
      ]
    },
    {
      "cell_type": "code",
      "metadata": {
        "colab": {
          "base_uri": "https://localhost:8080/"
        },
        "id": "FRm4Bw_gTqYn",
        "outputId": "2167d469-5690-4d7d-a278-09bc1de923b0"
      },
      "source": [
        "data_matches.duplicated().sum()"
      ],
      "execution_count": 20,
      "outputs": [
        {
          "output_type": "execute_result",
          "data": {
            "text/plain": [
              "0"
            ]
          },
          "metadata": {
            "tags": []
          },
          "execution_count": 20
        }
      ]
    },
    {
      "cell_type": "markdown",
      "metadata": {
        "id": "-Hl2bmYWTqk-"
      },
      "source": [
        "Here we do not have any duplicated values."
      ]
    },
    {
      "cell_type": "markdown",
      "metadata": {
        "id": "4sWXjJOeT1_s"
      },
      "source": [
        "## 3. Visualizing the data:\n",
        "Few plots and graphs are displayed to find how the data is distributed and the how features are related to each other."
      ]
    },
    {
      "cell_type": "markdown",
      "metadata": {
        "id": "96jO0cThT5b7"
      },
      "source": [
        "### Finding Top Teams and Players"
      ]
    },
    {
      "cell_type": "code",
      "metadata": {
        "colab": {
          "base_uri": "https://localhost:8080/",
          "height": 538
        },
        "id": "TuIl4XbnT3g3",
        "outputId": "0a91abd5-aacf-4287-e083-18a399cffdbf"
      },
      "source": [
        "plt.figure(figsize=(10,6))\n",
        "\"\"\"style1  = {'family': 'Times New Roman', 'color': 'Tomato', 'size': 25}\n",
        "style2  = {'family': 'Times New Roman', 'color': 'DodgerBlue', 'size': 20}\"\"\"\n",
        "sns.barplot( data_matches['toss_winner'].value_counts().index,data_matches['toss_winner'].value_counts().values)\n",
        "plt.title('Toss Win Count by Team' )\n",
        "plt.xlabel('Players' )\n",
        "plt.xticks(rotation=90)\n",
        "plt.ylabel('Count' )\n",
        "plt.show()"
      ],
      "execution_count": 21,
      "outputs": [
        {
          "output_type": "display_data",
          "data": {
            "image/png": "[encoded data removed]",
            "text/plain": [
              "<Figure size 720x432 with 1 Axes>"
            ]
          },
          "metadata": {
            "tags": [],
            "needs_background": "light"
          }
        }
      ]
    },
    {
      "cell_type": "code",
      "metadata": {
        "colab": {
          "base_uri": "https://localhost:8080/",
          "height": 513
        },
        "id": "MxytTOo5UH81",
        "outputId": "e92ba441-f74e-41b6-86e2-451157fc15d6"
      },
      "source": [
        "plt.subplots(figsize=(15,8))\n",
        "\"\"\"style1  = {'family': 'Times New Roman', 'color': 'Tomato', 'size': 25}\n",
        "style2  = {'family': 'Times New Roman', 'color': 'DodgerBlue', 'size': 20}\"\"\"\n",
        "sns.barplot(data_matches['player_of_match'].value_counts()[:10].index, data_matches['player_of_match'].value_counts()[:10].values)\n",
        "plt.title('Top 10 Players of Match')\n",
        "plt.xlabel('Players' )\n",
        "plt.ylabel('Count')\n",
        "plt.show()"
      ],
      "execution_count": 22,
      "outputs": [
        {
          "output_type": "display_data",
          "data": {
            "image/png": "[encoded data removed]",
            "text/plain": [
              "<Figure size 1080x576 with 1 Axes>"
            ]
          },
          "metadata": {
            "tags": [],
            "needs_background": "light"
          }
        }
      ]
    },
    {
      "cell_type": "markdown",
      "metadata": {
        "id": "_NTpm_AJURYB"
      },
      "source": [
        "Best Team is Mumbai Indians.\n",
        "Best Player is CH Gayle."
      ]
    },
    {
      "cell_type": "markdown",
      "metadata": {
        "id": "6_XjmM9_UXOW"
      },
      "source": [
        "### Finding the Factors Affecting the Victory"
      ]
    },
    {
      "cell_type": "code",
      "metadata": {
        "colab": {
          "base_uri": "https://localhost:8080/",
          "height": 203
        },
        "id": "Ow1QqL9kAT_7",
        "outputId": "c4b5ce1a-b891-4608-9dd8-06b8bbe94654"
      },
      "source": [
        "data_matches.corr().abs()"
      ],
      "execution_count": 23,
      "outputs": [
        {
          "output_type": "execute_result",
          "data": {
            "text/html": [
              "<div>\n",
              "<style scoped>\n",
              "    .dataframe tbody tr th:only-of-type {\n",
              "        vertical-align: middle;\n",
              "    }\n",
              "\n",
              "    .dataframe tbody tr th {\n",
              "        vertical-align: top;\n",
              "    }\n",
              "\n",
              "    .dataframe thead th {\n",
              "        text-align: right;\n",
              "    }\n",
              "</style>\n",
              "<table border=\"1\" class=\"dataframe\">\n",
              "  <thead>\n",
              "    <tr style=\"text-align: right;\">\n",
              "      <th></th>\n",
              "      <th>id</th>\n",
              "      <th>season</th>\n",
              "      <th>dl_applied</th>\n",
              "      <th>Bat_1</th>\n",
              "      <th>Ball_1</th>\n",
              "    </tr>\n",
              "  </thead>\n",
              "  <tbody>\n",
              "    <tr>\n",
              "      <th>id</th>\n",
              "      <td>1.000000</td>\n",
              "      <td>0.668304</td>\n",
              "      <td>0.011658</td>\n",
              "      <td>0.039403</td>\n",
              "      <td>0.012239</td>\n",
              "    </tr>\n",
              "    <tr>\n",
              "      <th>season</th>\n",
              "      <td>0.668304</td>\n",
              "      <td>1.000000</td>\n",
              "      <td>0.001116</td>\n",
              "      <td>0.037529</td>\n",
              "      <td>0.009379</td>\n",
              "    </tr>\n",
              "    <tr>\n",
              "      <th>dl_applied</th>\n",
              "      <td>0.011658</td>\n",
              "      <td>0.001116</td>\n",
              "      <td>1.000000</td>\n",
              "      <td>0.016349</td>\n",
              "      <td>0.011631</td>\n",
              "    </tr>\n",
              "    <tr>\n",
              "      <th>Bat_1</th>\n",
              "      <td>0.039403</td>\n",
              "      <td>0.037529</td>\n",
              "      <td>0.016349</td>\n",
              "      <td>1.000000</td>\n",
              "      <td>0.560420</td>\n",
              "    </tr>\n",
              "    <tr>\n",
              "      <th>Ball_1</th>\n",
              "      <td>0.012239</td>\n",
              "      <td>0.009379</td>\n",
              "      <td>0.011631</td>\n",
              "      <td>0.560420</td>\n",
              "      <td>1.000000</td>\n",
              "    </tr>\n",
              "  </tbody>\n",
              "</table>\n",
              "</div>"
            ],
            "text/plain": [
              "                  id    season  dl_applied     Bat_1    Ball_1\n",
              "id          1.000000  0.668304    0.011658  0.039403  0.012239\n",
              "season      0.668304  1.000000    0.001116  0.037529  0.009379\n",
              "dl_applied  0.011658  0.001116    1.000000  0.016349  0.011631\n",
              "Bat_1       0.039403  0.037529    0.016349  1.000000  0.560420\n",
              "Ball_1      0.012239  0.009379    0.011631  0.560420  1.000000"
            ]
          },
          "metadata": {
            "tags": []
          },
          "execution_count": 23
        }
      ]
    },
    {
      "cell_type": "code",
      "metadata": {
        "colab": {
          "base_uri": "https://localhost:8080/",
          "height": 270
        },
        "id": "JKccOF7OUbH7",
        "outputId": "fea6624b-a41c-43c5-b1d8-e97f8c7fcb6a"
      },
      "source": [
        "sns.heatmap(data_matches.corr(), annot=True, cmap='magma');"
      ],
      "execution_count": 24,
      "outputs": [
        {
          "output_type": "display_data",
          "data": {
            "image/png": "[encoded data removed]",
            "text/plain": [
              "<Figure size 432x288 with 2 Axes>"
            ]
          },
          "metadata": {
            "tags": [],
            "needs_background": "light"
          }
        }
      ]
    },
    {
      "cell_type": "code",
      "metadata": {
        "id": "wwKHm2JJUjhs",
        "colab": {
          "base_uri": "https://localhost:8080/",
          "height": 442
        },
        "outputId": "7e4b90d0-c00c-45d7-b6cf-23398c937260"
      },
      "source": [
        "data_matches= data_matches.drop(['dl_applied', 'season'], axis=1)\n",
        "data_matches.head()"
      ],
      "execution_count": 25,
      "outputs": [
        {
          "output_type": "execute_result",
          "data": {
            "text/html": [
              "<div>\n",
              "<style scoped>\n",
              "    .dataframe tbody tr th:only-of-type {\n",
              "        vertical-align: middle;\n",
              "    }\n",
              "\n",
              "    .dataframe tbody tr th {\n",
              "        vertical-align: top;\n",
              "    }\n",
              "\n",
              "    .dataframe thead th {\n",
              "        text-align: right;\n",
              "    }\n",
              "</style>\n",
              "<table border=\"1\" class=\"dataframe\">\n",
              "  <thead>\n",
              "    <tr style=\"text-align: right;\">\n",
              "      <th></th>\n",
              "      <th>id</th>\n",
              "      <th>city</th>\n",
              "      <th>date</th>\n",
              "      <th>team1</th>\n",
              "      <th>team2</th>\n",
              "      <th>toss_winner</th>\n",
              "      <th>toss_decision</th>\n",
              "      <th>result</th>\n",
              "      <th>winner</th>\n",
              "      <th>Bat_1</th>\n",
              "      <th>Ball_1</th>\n",
              "      <th>player_of_match</th>\n",
              "      <th>venue</th>\n",
              "      <th>umpire1</th>\n",
              "      <th>umpire2</th>\n",
              "      <th>umpire3</th>\n",
              "    </tr>\n",
              "  </thead>\n",
              "  <tbody>\n",
              "    <tr>\n",
              "      <th>0</th>\n",
              "      <td>1</td>\n",
              "      <td>Hyderabad</td>\n",
              "      <td>2017-04-05</td>\n",
              "      <td>Sunrisers Hyderabad</td>\n",
              "      <td>Royal Challengers Bangalore</td>\n",
              "      <td>Royal Challengers Bangalore</td>\n",
              "      <td>field</td>\n",
              "      <td>normal</td>\n",
              "      <td>Sunrisers Hyderabad</td>\n",
              "      <td>35</td>\n",
              "      <td>0</td>\n",
              "      <td>Yuvraj Singh</td>\n",
              "      <td>Rajiv Gandhi International Stadium, Uppal</td>\n",
              "      <td>AY Dandekar</td>\n",
              "      <td>NJ Llong</td>\n",
              "      <td>NA</td>\n",
              "    </tr>\n",
              "    <tr>\n",
              "      <th>1</th>\n",
              "      <td>2</td>\n",
              "      <td>Pune</td>\n",
              "      <td>2017-04-06</td>\n",
              "      <td>Mumbai Indians</td>\n",
              "      <td>Rising Pune Supergiant</td>\n",
              "      <td>Rising Pune Supergiant</td>\n",
              "      <td>field</td>\n",
              "      <td>normal</td>\n",
              "      <td>Rising Pune Supergiant</td>\n",
              "      <td>0</td>\n",
              "      <td>7</td>\n",
              "      <td>SPD Smith</td>\n",
              "      <td>Maharashtra Cricket Association Stadium</td>\n",
              "      <td>A Nand Kishore</td>\n",
              "      <td>S Ravi</td>\n",
              "      <td>NA</td>\n",
              "    </tr>\n",
              "    <tr>\n",
              "      <th>2</th>\n",
              "      <td>3</td>\n",
              "      <td>Rajkot</td>\n",
              "      <td>2017-04-07</td>\n",
              "      <td>Gujarat Lions</td>\n",
              "      <td>Kolkata Knight Riders</td>\n",
              "      <td>Kolkata Knight Riders</td>\n",
              "      <td>field</td>\n",
              "      <td>normal</td>\n",
              "      <td>Kolkata Knight Riders</td>\n",
              "      <td>0</td>\n",
              "      <td>10</td>\n",
              "      <td>CA Lynn</td>\n",
              "      <td>Saurashtra Cricket Association Stadium</td>\n",
              "      <td>Nitin Menon</td>\n",
              "      <td>CK Nandan</td>\n",
              "      <td>NA</td>\n",
              "    </tr>\n",
              "    <tr>\n",
              "      <th>3</th>\n",
              "      <td>4</td>\n",
              "      <td>Indore</td>\n",
              "      <td>2017-04-08</td>\n",
              "      <td>Rising Pune Supergiant</td>\n",
              "      <td>Kings XI Punjab</td>\n",
              "      <td>Kings XI Punjab</td>\n",
              "      <td>field</td>\n",
              "      <td>normal</td>\n",
              "      <td>Kings XI Punjab</td>\n",
              "      <td>0</td>\n",
              "      <td>6</td>\n",
              "      <td>GJ Maxwell</td>\n",
              "      <td>Holkar Cricket Stadium</td>\n",
              "      <td>AK Chaudhary</td>\n",
              "      <td>C Shamshuddin</td>\n",
              "      <td>NA</td>\n",
              "    </tr>\n",
              "    <tr>\n",
              "      <th>4</th>\n",
              "      <td>5</td>\n",
              "      <td>Bangalore</td>\n",
              "      <td>2017-04-08</td>\n",
              "      <td>Royal Challengers Bangalore</td>\n",
              "      <td>Delhi Daredevils</td>\n",
              "      <td>Royal Challengers Bangalore</td>\n",
              "      <td>bat</td>\n",
              "      <td>normal</td>\n",
              "      <td>Royal Challengers Bangalore</td>\n",
              "      <td>15</td>\n",
              "      <td>0</td>\n",
              "      <td>KM Jadhav</td>\n",
              "      <td>M Chinnaswamy Stadium</td>\n",
              "      <td>HDPK Dharmasena</td>\n",
              "      <td>C Shamshuddin</td>\n",
              "      <td>NA</td>\n",
              "    </tr>\n",
              "  </tbody>\n",
              "</table>\n",
              "</div>"
            ],
            "text/plain": [
              "   id       city        date  ...          umpire1        umpire2 umpire3\n",
              "0   1  Hyderabad  2017-04-05  ...      AY Dandekar       NJ Llong      NA\n",
              "1   2       Pune  2017-04-06  ...   A Nand Kishore         S Ravi      NA\n",
              "2   3     Rajkot  2017-04-07  ...      Nitin Menon      CK Nandan      NA\n",
              "3   4     Indore  2017-04-08  ...     AK Chaudhary  C Shamshuddin      NA\n",
              "4   5  Bangalore  2017-04-08  ...  HDPK Dharmasena  C Shamshuddin      NA\n",
              "\n",
              "[5 rows x 16 columns]"
            ]
          },
          "metadata": {
            "tags": []
          },
          "execution_count": 25
        }
      ]
    },
    {
      "cell_type": "code",
      "metadata": {
        "colab": {
          "base_uri": "https://localhost:8080/",
          "height": 755
        },
        "id": "cwL4NGXyUjpo",
        "outputId": "ff52438d-2e2e-4283-e1da-0094a728bdeb"
      },
      "source": [
        "plt.figure(figsize=(10,10))\n",
        "sns.countplot(data_matches['toss_winner'])\n",
        "plt.xlabel('Teams')\n",
        "plt.ylabel('Count')\n",
        "plt.title('Teams that Won the Toss')\n",
        "plt.xticks(rotation=90)\n",
        "plt.show()"
      ],
      "execution_count": 26,
      "outputs": [
        {
          "output_type": "display_data",
          "data": {
            "image/png": "[encoded data removed]",
            "text/plain": [
              "<Figure size 720x720 with 1 Axes>"
            ]
          },
          "metadata": {
            "tags": [],
            "needs_background": "light"
          }
        }
      ]
    },
    {
      "cell_type": "code",
      "metadata": {
        "colab": {
          "base_uri": "https://localhost:8080/"
        },
        "id": "1_08d-CHUyD7",
        "outputId": "6315613a-d8e1-4228-9c15-2953d2149550"
      },
      "source": [
        "print('Team that won most matches by Batting First: ',data_matches.iloc[data_matches[data_matches['Bat_1'].ge(1)].Bat_1.idxmax()]['winner'])"
      ],
      "execution_count": 27,
      "outputs": [
        {
          "output_type": "stream",
          "text": [
            "Team that won most matches by Batting First:  Mumbai Indians\n"
          ],
          "name": "stdout"
        }
      ]
    },
    {
      "cell_type": "markdown",
      "metadata": {
        "id": "v1LNhQbkAT_8"
      },
      "source": [
        "## 4. Data Analysis:"
      ]
    },
    {
      "cell_type": "markdown",
      "metadata": {
        "id": "v7UQs-Y7Vs6P"
      },
      "source": [
        "### 4.1. Merging the two Datasets into a new Dataset and Reading it (join on match-id)"
      ]
    },
    {
      "cell_type": "code",
      "metadata": {
        "colab": {
          "base_uri": "https://localhost:8080/",
          "height": 559
        },
        "id": "kxGGmRroVjHC",
        "outputId": "16038bcb-68b4-4b1c-e037-dafe5b1e7abe"
      },
      "source": [
        "data_merge=pd.merge(data_deliveries, data_matches, left_on='match_id', right_on='id')\n",
        "data_merge.head()"
      ],
      "execution_count": 28,
      "outputs": [
        {
          "output_type": "execute_result",
          "data": {
            "text/html": [
              "<div>\n",
              "<style scoped>\n",
              "    .dataframe tbody tr th:only-of-type {\n",
              "        vertical-align: middle;\n",
              "    }\n",
              "\n",
              "    .dataframe tbody tr th {\n",
              "        vertical-align: top;\n",
              "    }\n",
              "\n",
              "    .dataframe thead th {\n",
              "        text-align: right;\n",
              "    }\n",
              "</style>\n",
              "<table border=\"1\" class=\"dataframe\">\n",
              "  <thead>\n",
              "    <tr style=\"text-align: right;\">\n",
              "      <th></th>\n",
              "      <th>match_id</th>\n",
              "      <th>inning</th>\n",
              "      <th>batting_team</th>\n",
              "      <th>bowling_team</th>\n",
              "      <th>over</th>\n",
              "      <th>ball</th>\n",
              "      <th>batsman</th>\n",
              "      <th>non_striker</th>\n",
              "      <th>bowler</th>\n",
              "      <th>is_super_over</th>\n",
              "      <th>wide_runs</th>\n",
              "      <th>bye_runs</th>\n",
              "      <th>legbye_runs</th>\n",
              "      <th>noball_runs</th>\n",
              "      <th>penalty_runs</th>\n",
              "      <th>batsman_runs</th>\n",
              "      <th>extra_runs</th>\n",
              "      <th>total_runs</th>\n",
              "      <th>player_dismissed</th>\n",
              "      <th>dismissal_kind</th>\n",
              "      <th>fielder</th>\n",
              "      <th>id</th>\n",
              "      <th>city</th>\n",
              "      <th>date</th>\n",
              "      <th>team1</th>\n",
              "      <th>team2</th>\n",
              "      <th>toss_winner</th>\n",
              "      <th>toss_decision</th>\n",
              "      <th>result</th>\n",
              "      <th>winner</th>\n",
              "      <th>Bat_1</th>\n",
              "      <th>Ball_1</th>\n",
              "      <th>player_of_match</th>\n",
              "      <th>venue</th>\n",
              "      <th>umpire1</th>\n",
              "      <th>umpire2</th>\n",
              "      <th>umpire3</th>\n",
              "    </tr>\n",
              "  </thead>\n",
              "  <tbody>\n",
              "    <tr>\n",
              "      <th>0</th>\n",
              "      <td>1</td>\n",
              "      <td>1</td>\n",
              "      <td>Sunrisers Hyderabad</td>\n",
              "      <td>Royal Challengers Bangalore</td>\n",
              "      <td>1</td>\n",
              "      <td>1</td>\n",
              "      <td>DA Warner</td>\n",
              "      <td>S Dhawan</td>\n",
              "      <td>TS Mills</td>\n",
              "      <td>0</td>\n",
              "      <td>0</td>\n",
              "      <td>0.0</td>\n",
              "      <td>0.0</td>\n",
              "      <td>0.0</td>\n",
              "      <td>0.0</td>\n",
              "      <td>0.0</td>\n",
              "      <td>0.0</td>\n",
              "      <td>0.0</td>\n",
              "      <td>NaN</td>\n",
              "      <td>NaN</td>\n",
              "      <td>NaN</td>\n",
              "      <td>1</td>\n",
              "      <td>Hyderabad</td>\n",
              "      <td>2017-04-05</td>\n",
              "      <td>Sunrisers Hyderabad</td>\n",
              "      <td>Royal Challengers Bangalore</td>\n",
              "      <td>Royal Challengers Bangalore</td>\n",
              "      <td>field</td>\n",
              "      <td>normal</td>\n",
              "      <td>Sunrisers Hyderabad</td>\n",
              "      <td>35</td>\n",
              "      <td>0</td>\n",
              "      <td>Yuvraj Singh</td>\n",
              "      <td>Rajiv Gandhi International Stadium, Uppal</td>\n",
              "      <td>AY Dandekar</td>\n",
              "      <td>NJ Llong</td>\n",
              "      <td>NA</td>\n",
              "    </tr>\n",
              "    <tr>\n",
              "      <th>1</th>\n",
              "      <td>1</td>\n",
              "      <td>1</td>\n",
              "      <td>Sunrisers Hyderabad</td>\n",
              "      <td>Royal Challengers Bangalore</td>\n",
              "      <td>1</td>\n",
              "      <td>2</td>\n",
              "      <td>DA Warner</td>\n",
              "      <td>S Dhawan</td>\n",
              "      <td>TS Mills</td>\n",
              "      <td>0</td>\n",
              "      <td>0</td>\n",
              "      <td>0.0</td>\n",
              "      <td>0.0</td>\n",
              "      <td>0.0</td>\n",
              "      <td>0.0</td>\n",
              "      <td>0.0</td>\n",
              "      <td>0.0</td>\n",
              "      <td>0.0</td>\n",
              "      <td>NaN</td>\n",
              "      <td>NaN</td>\n",
              "      <td>NaN</td>\n",
              "      <td>1</td>\n",
              "      <td>Hyderabad</td>\n",
              "      <td>2017-04-05</td>\n",
              "      <td>Sunrisers Hyderabad</td>\n",
              "      <td>Royal Challengers Bangalore</td>\n",
              "      <td>Royal Challengers Bangalore</td>\n",
              "      <td>field</td>\n",
              "      <td>normal</td>\n",
              "      <td>Sunrisers Hyderabad</td>\n",
              "      <td>35</td>\n",
              "      <td>0</td>\n",
              "      <td>Yuvraj Singh</td>\n",
              "      <td>Rajiv Gandhi International Stadium, Uppal</td>\n",
              "      <td>AY Dandekar</td>\n",
              "      <td>NJ Llong</td>\n",
              "      <td>NA</td>\n",
              "    </tr>\n",
              "    <tr>\n",
              "      <th>2</th>\n",
              "      <td>1</td>\n",
              "      <td>1</td>\n",
              "      <td>Sunrisers Hyderabad</td>\n",
              "      <td>Royal Challengers Bangalore</td>\n",
              "      <td>1</td>\n",
              "      <td>3</td>\n",
              "      <td>DA Warner</td>\n",
              "      <td>S Dhawan</td>\n",
              "      <td>TS Mills</td>\n",
              "      <td>0</td>\n",
              "      <td>0</td>\n",
              "      <td>0.0</td>\n",
              "      <td>0.0</td>\n",
              "      <td>0.0</td>\n",
              "      <td>0.0</td>\n",
              "      <td>4.0</td>\n",
              "      <td>0.0</td>\n",
              "      <td>4.0</td>\n",
              "      <td>NaN</td>\n",
              "      <td>NaN</td>\n",
              "      <td>NaN</td>\n",
              "      <td>1</td>\n",
              "      <td>Hyderabad</td>\n",
              "      <td>2017-04-05</td>\n",
              "      <td>Sunrisers Hyderabad</td>\n",
              "      <td>Royal Challengers Bangalore</td>\n",
              "      <td>Royal Challengers Bangalore</td>\n",
              "      <td>field</td>\n",
              "      <td>normal</td>\n",
              "      <td>Sunrisers Hyderabad</td>\n",
              "      <td>35</td>\n",
              "      <td>0</td>\n",
              "      <td>Yuvraj Singh</td>\n",
              "      <td>Rajiv Gandhi International Stadium, Uppal</td>\n",
              "      <td>AY Dandekar</td>\n",
              "      <td>NJ Llong</td>\n",
              "      <td>NA</td>\n",
              "    </tr>\n",
              "    <tr>\n",
              "      <th>3</th>\n",
              "      <td>1</td>\n",
              "      <td>1</td>\n",
              "      <td>Sunrisers Hyderabad</td>\n",
              "      <td>Royal Challengers Bangalore</td>\n",
              "      <td>1</td>\n",
              "      <td>4</td>\n",
              "      <td>DA Warner</td>\n",
              "      <td>S Dhawan</td>\n",
              "      <td>TS Mills</td>\n",
              "      <td>0</td>\n",
              "      <td>0</td>\n",
              "      <td>0.0</td>\n",
              "      <td>0.0</td>\n",
              "      <td>0.0</td>\n",
              "      <td>0.0</td>\n",
              "      <td>0.0</td>\n",
              "      <td>0.0</td>\n",
              "      <td>0.0</td>\n",
              "      <td>NaN</td>\n",
              "      <td>NaN</td>\n",
              "      <td>NaN</td>\n",
              "      <td>1</td>\n",
              "      <td>Hyderabad</td>\n",
              "      <td>2017-04-05</td>\n",
              "      <td>Sunrisers Hyderabad</td>\n",
              "      <td>Royal Challengers Bangalore</td>\n",
              "      <td>Royal Challengers Bangalore</td>\n",
              "      <td>field</td>\n",
              "      <td>normal</td>\n",
              "      <td>Sunrisers Hyderabad</td>\n",
              "      <td>35</td>\n",
              "      <td>0</td>\n",
              "      <td>Yuvraj Singh</td>\n",
              "      <td>Rajiv Gandhi International Stadium, Uppal</td>\n",
              "      <td>AY Dandekar</td>\n",
              "      <td>NJ Llong</td>\n",
              "      <td>NA</td>\n",
              "    </tr>\n",
              "    <tr>\n",
              "      <th>4</th>\n",
              "      <td>1</td>\n",
              "      <td>1</td>\n",
              "      <td>Sunrisers Hyderabad</td>\n",
              "      <td>Royal Challengers Bangalore</td>\n",
              "      <td>1</td>\n",
              "      <td>5</td>\n",
              "      <td>DA Warner</td>\n",
              "      <td>S Dhawan</td>\n",
              "      <td>TS Mills</td>\n",
              "      <td>0</td>\n",
              "      <td>2</td>\n",
              "      <td>0.0</td>\n",
              "      <td>0.0</td>\n",
              "      <td>0.0</td>\n",
              "      <td>0.0</td>\n",
              "      <td>0.0</td>\n",
              "      <td>2.0</td>\n",
              "      <td>2.0</td>\n",
              "      <td>NaN</td>\n",
              "      <td>NaN</td>\n",
              "      <td>NaN</td>\n",
              "      <td>1</td>\n",
              "      <td>Hyderabad</td>\n",
              "      <td>2017-04-05</td>\n",
              "      <td>Sunrisers Hyderabad</td>\n",
              "      <td>Royal Challengers Bangalore</td>\n",
              "      <td>Royal Challengers Bangalore</td>\n",
              "      <td>field</td>\n",
              "      <td>normal</td>\n",
              "      <td>Sunrisers Hyderabad</td>\n",
              "      <td>35</td>\n",
              "      <td>0</td>\n",
              "      <td>Yuvraj Singh</td>\n",
              "      <td>Rajiv Gandhi International Stadium, Uppal</td>\n",
              "      <td>AY Dandekar</td>\n",
              "      <td>NJ Llong</td>\n",
              "      <td>NA</td>\n",
              "    </tr>\n",
              "  </tbody>\n",
              "</table>\n",
              "</div>"
            ],
            "text/plain": [
              "   match_id  inning         batting_team  ...      umpire1   umpire2  umpire3\n",
              "0         1       1  Sunrisers Hyderabad  ...  AY Dandekar  NJ Llong       NA\n",
              "1         1       1  Sunrisers Hyderabad  ...  AY Dandekar  NJ Llong       NA\n",
              "2         1       1  Sunrisers Hyderabad  ...  AY Dandekar  NJ Llong       NA\n",
              "3         1       1  Sunrisers Hyderabad  ...  AY Dandekar  NJ Llong       NA\n",
              "4         1       1  Sunrisers Hyderabad  ...  AY Dandekar  NJ Llong       NA\n",
              "\n",
              "[5 rows x 37 columns]"
            ]
          },
          "metadata": {
            "tags": []
          },
          "execution_count": 28
        }
      ]
    },
    {
      "cell_type": "code",
      "metadata": {
        "colab": {
          "base_uri": "https://localhost:8080/"
        },
        "id": "0k3AzNX2V9yh",
        "outputId": "cbd52476-17f5-4040-d33f-4ef6e9a190e3"
      },
      "source": [
        "print('Shape:', data_merge.shape)\n",
        "print('Size:', data_merge.size)"
      ],
      "execution_count": 29,
      "outputs": [
        {
          "output_type": "stream",
          "text": [
            "Shape: (41304, 37)\n",
            "Size: 1528248\n"
          ],
          "name": "stdout"
        }
      ]
    },
    {
      "cell_type": "code",
      "metadata": {
        "colab": {
          "base_uri": "https://localhost:8080/"
        },
        "id": "uZyRUiO_WAVv",
        "outputId": "535bc2f1-65f4-4d40-ad10-9ffc8c0ca058"
      },
      "source": [
        "data_merge.isna().sum()"
      ],
      "execution_count": 30,
      "outputs": [
        {
          "output_type": "execute_result",
          "data": {
            "text/plain": [
              "match_id                0\n",
              "inning                  0\n",
              "batting_team            0\n",
              "bowling_team            0\n",
              "over                    0\n",
              "ball                    0\n",
              "batsman                 0\n",
              "non_striker             0\n",
              "bowler                  0\n",
              "is_super_over           0\n",
              "wide_runs               0\n",
              "bye_runs                1\n",
              "legbye_runs             1\n",
              "noball_runs             1\n",
              "penalty_runs            1\n",
              "batsman_runs            1\n",
              "extra_runs              1\n",
              "total_runs              1\n",
              "player_dismissed    39191\n",
              "dismissal_kind      39191\n",
              "fielder             39779\n",
              "id                      0\n",
              "city                    0\n",
              "date                    0\n",
              "team1                   0\n",
              "team2                   0\n",
              "toss_winner             0\n",
              "toss_decision           0\n",
              "result                  0\n",
              "winner                  0\n",
              "Bat_1                   0\n",
              "Ball_1                  0\n",
              "player_of_match         0\n",
              "venue                   0\n",
              "umpire1                 0\n",
              "umpire2                 0\n",
              "umpire3                 0\n",
              "dtype: int64"
            ]
          },
          "metadata": {
            "tags": []
          },
          "execution_count": 30
        }
      ]
    },
    {
      "cell_type": "code",
      "metadata": {
        "colab": {
          "base_uri": "https://localhost:8080/"
        },
        "id": "AlW_qTUbWE0A",
        "outputId": "cef77977-4d8b-42b5-c3c0-05e745ecf221"
      },
      "source": [
        "data_merge['player_dismissed'].fillna(value='NA', inplace=True)\n",
        "data_merge.isnull().sum()"
      ],
      "execution_count": 31,
      "outputs": [
        {
          "output_type": "execute_result",
          "data": {
            "text/plain": [
              "match_id                0\n",
              "inning                  0\n",
              "batting_team            0\n",
              "bowling_team            0\n",
              "over                    0\n",
              "ball                    0\n",
              "batsman                 0\n",
              "non_striker             0\n",
              "bowler                  0\n",
              "is_super_over           0\n",
              "wide_runs               0\n",
              "bye_runs                1\n",
              "legbye_runs             1\n",
              "noball_runs             1\n",
              "penalty_runs            1\n",
              "batsman_runs            1\n",
              "extra_runs              1\n",
              "total_runs              1\n",
              "player_dismissed        0\n",
              "dismissal_kind      39191\n",
              "fielder             39779\n",
              "id                      0\n",
              "city                    0\n",
              "date                    0\n",
              "team1                   0\n",
              "team2                   0\n",
              "toss_winner             0\n",
              "toss_decision           0\n",
              "result                  0\n",
              "winner                  0\n",
              "Bat_1                   0\n",
              "Ball_1                  0\n",
              "player_of_match         0\n",
              "venue                   0\n",
              "umpire1                 0\n",
              "umpire2                 0\n",
              "umpire3                 0\n",
              "dtype: int64"
            ]
          },
          "metadata": {
            "tags": []
          },
          "execution_count": 31
        }
      ]
    },
    {
      "cell_type": "code",
      "metadata": {
        "colab": {
          "base_uri": "https://localhost:8080/"
        },
        "id": "uhR1LePIWMvN",
        "outputId": "1310054a-5c07-4544-9b40-890b66b0e170"
      },
      "source": [
        "data_merge.duplicated().sum()"
      ],
      "execution_count": 32,
      "outputs": [
        {
          "output_type": "execute_result",
          "data": {
            "text/plain": [
              "0"
            ]
          },
          "metadata": {
            "tags": []
          },
          "execution_count": 32
        }
      ]
    },
    {
      "cell_type": "code",
      "metadata": {
        "colab": {
          "base_uri": "https://localhost:8080/",
          "height": 857
        },
        "id": "SrEx5E3HWPmk",
        "outputId": "0ef714c7-1d28-4138-ef7d-2d55e1e51069"
      },
      "source": [
        "data_merge.drop_duplicates()"
      ],
      "execution_count": 33,
      "outputs": [
        {
          "output_type": "execute_result",
          "data": {
            "text/html": [
              "<div>\n",
              "<style scoped>\n",
              "    .dataframe tbody tr th:only-of-type {\n",
              "        vertical-align: middle;\n",
              "    }\n",
              "\n",
              "    .dataframe tbody tr th {\n",
              "        vertical-align: top;\n",
              "    }\n",
              "\n",
              "    .dataframe thead th {\n",
              "        text-align: right;\n",
              "    }\n",
              "</style>\n",
              "<table border=\"1\" class=\"dataframe\">\n",
              "  <thead>\n",
              "    <tr style=\"text-align: right;\">\n",
              "      <th></th>\n",
              "      <th>match_id</th>\n",
              "      <th>inning</th>\n",
              "      <th>batting_team</th>\n",
              "      <th>bowling_team</th>\n",
              "      <th>over</th>\n",
              "      <th>ball</th>\n",
              "      <th>batsman</th>\n",
              "      <th>non_striker</th>\n",
              "      <th>bowler</th>\n",
              "      <th>is_super_over</th>\n",
              "      <th>wide_runs</th>\n",
              "      <th>bye_runs</th>\n",
              "      <th>legbye_runs</th>\n",
              "      <th>noball_runs</th>\n",
              "      <th>penalty_runs</th>\n",
              "      <th>batsman_runs</th>\n",
              "      <th>extra_runs</th>\n",
              "      <th>total_runs</th>\n",
              "      <th>player_dismissed</th>\n",
              "      <th>dismissal_kind</th>\n",
              "      <th>fielder</th>\n",
              "      <th>id</th>\n",
              "      <th>city</th>\n",
              "      <th>date</th>\n",
              "      <th>team1</th>\n",
              "      <th>team2</th>\n",
              "      <th>toss_winner</th>\n",
              "      <th>toss_decision</th>\n",
              "      <th>result</th>\n",
              "      <th>winner</th>\n",
              "      <th>Bat_1</th>\n",
              "      <th>Ball_1</th>\n",
              "      <th>player_of_match</th>\n",
              "      <th>venue</th>\n",
              "      <th>umpire1</th>\n",
              "      <th>umpire2</th>\n",
              "      <th>umpire3</th>\n",
              "    </tr>\n",
              "  </thead>\n",
              "  <tbody>\n",
              "    <tr>\n",
              "      <th>0</th>\n",
              "      <td>1</td>\n",
              "      <td>1</td>\n",
              "      <td>Sunrisers Hyderabad</td>\n",
              "      <td>Royal Challengers Bangalore</td>\n",
              "      <td>1</td>\n",
              "      <td>1</td>\n",
              "      <td>DA Warner</td>\n",
              "      <td>S Dhawan</td>\n",
              "      <td>TS Mills</td>\n",
              "      <td>0</td>\n",
              "      <td>0</td>\n",
              "      <td>0.0</td>\n",
              "      <td>0.0</td>\n",
              "      <td>0.0</td>\n",
              "      <td>0.0</td>\n",
              "      <td>0.0</td>\n",
              "      <td>0.0</td>\n",
              "      <td>0.0</td>\n",
              "      <td>NA</td>\n",
              "      <td>NaN</td>\n",
              "      <td>NaN</td>\n",
              "      <td>1</td>\n",
              "      <td>Hyderabad</td>\n",
              "      <td>2017-04-05</td>\n",
              "      <td>Sunrisers Hyderabad</td>\n",
              "      <td>Royal Challengers Bangalore</td>\n",
              "      <td>Royal Challengers Bangalore</td>\n",
              "      <td>field</td>\n",
              "      <td>normal</td>\n",
              "      <td>Sunrisers Hyderabad</td>\n",
              "      <td>35</td>\n",
              "      <td>0</td>\n",
              "      <td>Yuvraj Singh</td>\n",
              "      <td>Rajiv Gandhi International Stadium, Uppal</td>\n",
              "      <td>AY Dandekar</td>\n",
              "      <td>NJ Llong</td>\n",
              "      <td>NA</td>\n",
              "    </tr>\n",
              "    <tr>\n",
              "      <th>1</th>\n",
              "      <td>1</td>\n",
              "      <td>1</td>\n",
              "      <td>Sunrisers Hyderabad</td>\n",
              "      <td>Royal Challengers Bangalore</td>\n",
              "      <td>1</td>\n",
              "      <td>2</td>\n",
              "      <td>DA Warner</td>\n",
              "      <td>S Dhawan</td>\n",
              "      <td>TS Mills</td>\n",
              "      <td>0</td>\n",
              "      <td>0</td>\n",
              "      <td>0.0</td>\n",
              "      <td>0.0</td>\n",
              "      <td>0.0</td>\n",
              "      <td>0.0</td>\n",
              "      <td>0.0</td>\n",
              "      <td>0.0</td>\n",
              "      <td>0.0</td>\n",
              "      <td>NA</td>\n",
              "      <td>NaN</td>\n",
              "      <td>NaN</td>\n",
              "      <td>1</td>\n",
              "      <td>Hyderabad</td>\n",
              "      <td>2017-04-05</td>\n",
              "      <td>Sunrisers Hyderabad</td>\n",
              "      <td>Royal Challengers Bangalore</td>\n",
              "      <td>Royal Challengers Bangalore</td>\n",
              "      <td>field</td>\n",
              "      <td>normal</td>\n",
              "      <td>Sunrisers Hyderabad</td>\n",
              "      <td>35</td>\n",
              "      <td>0</td>\n",
              "      <td>Yuvraj Singh</td>\n",
              "      <td>Rajiv Gandhi International Stadium, Uppal</td>\n",
              "      <td>AY Dandekar</td>\n",
              "      <td>NJ Llong</td>\n",
              "      <td>NA</td>\n",
              "    </tr>\n",
              "    <tr>\n",
              "      <th>2</th>\n",
              "      <td>1</td>\n",
              "      <td>1</td>\n",
              "      <td>Sunrisers Hyderabad</td>\n",
              "      <td>Royal Challengers Bangalore</td>\n",
              "      <td>1</td>\n",
              "      <td>3</td>\n",
              "      <td>DA Warner</td>\n",
              "      <td>S Dhawan</td>\n",
              "      <td>TS Mills</td>\n",
              "      <td>0</td>\n",
              "      <td>0</td>\n",
              "      <td>0.0</td>\n",
              "      <td>0.0</td>\n",
              "      <td>0.0</td>\n",
              "      <td>0.0</td>\n",
              "      <td>4.0</td>\n",
              "      <td>0.0</td>\n",
              "      <td>4.0</td>\n",
              "      <td>NA</td>\n",
              "      <td>NaN</td>\n",
              "      <td>NaN</td>\n",
              "      <td>1</td>\n",
              "      <td>Hyderabad</td>\n",
              "      <td>2017-04-05</td>\n",
              "      <td>Sunrisers Hyderabad</td>\n",
              "      <td>Royal Challengers Bangalore</td>\n",
              "      <td>Royal Challengers Bangalore</td>\n",
              "      <td>field</td>\n",
              "      <td>normal</td>\n",
              "      <td>Sunrisers Hyderabad</td>\n",
              "      <td>35</td>\n",
              "      <td>0</td>\n",
              "      <td>Yuvraj Singh</td>\n",
              "      <td>Rajiv Gandhi International Stadium, Uppal</td>\n",
              "      <td>AY Dandekar</td>\n",
              "      <td>NJ Llong</td>\n",
              "      <td>NA</td>\n",
              "    </tr>\n",
              "    <tr>\n",
              "      <th>3</th>\n",
              "      <td>1</td>\n",
              "      <td>1</td>\n",
              "      <td>Sunrisers Hyderabad</td>\n",
              "      <td>Royal Challengers Bangalore</td>\n",
              "      <td>1</td>\n",
              "      <td>4</td>\n",
              "      <td>DA Warner</td>\n",
              "      <td>S Dhawan</td>\n",
              "      <td>TS Mills</td>\n",
              "      <td>0</td>\n",
              "      <td>0</td>\n",
              "      <td>0.0</td>\n",
              "      <td>0.0</td>\n",
              "      <td>0.0</td>\n",
              "      <td>0.0</td>\n",
              "      <td>0.0</td>\n",
              "      <td>0.0</td>\n",
              "      <td>0.0</td>\n",
              "      <td>NA</td>\n",
              "      <td>NaN</td>\n",
              "      <td>NaN</td>\n",
              "      <td>1</td>\n",
              "      <td>Hyderabad</td>\n",
              "      <td>2017-04-05</td>\n",
              "      <td>Sunrisers Hyderabad</td>\n",
              "      <td>Royal Challengers Bangalore</td>\n",
              "      <td>Royal Challengers Bangalore</td>\n",
              "      <td>field</td>\n",
              "      <td>normal</td>\n",
              "      <td>Sunrisers Hyderabad</td>\n",
              "      <td>35</td>\n",
              "      <td>0</td>\n",
              "      <td>Yuvraj Singh</td>\n",
              "      <td>Rajiv Gandhi International Stadium, Uppal</td>\n",
              "      <td>AY Dandekar</td>\n",
              "      <td>NJ Llong</td>\n",
              "      <td>NA</td>\n",
              "    </tr>\n",
              "    <tr>\n",
              "      <th>4</th>\n",
              "      <td>1</td>\n",
              "      <td>1</td>\n",
              "      <td>Sunrisers Hyderabad</td>\n",
              "      <td>Royal Challengers Bangalore</td>\n",
              "      <td>1</td>\n",
              "      <td>5</td>\n",
              "      <td>DA Warner</td>\n",
              "      <td>S Dhawan</td>\n",
              "      <td>TS Mills</td>\n",
              "      <td>0</td>\n",
              "      <td>2</td>\n",
              "      <td>0.0</td>\n",
              "      <td>0.0</td>\n",
              "      <td>0.0</td>\n",
              "      <td>0.0</td>\n",
              "      <td>0.0</td>\n",
              "      <td>2.0</td>\n",
              "      <td>2.0</td>\n",
              "      <td>NA</td>\n",
              "      <td>NaN</td>\n",
              "      <td>NaN</td>\n",
              "      <td>1</td>\n",
              "      <td>Hyderabad</td>\n",
              "      <td>2017-04-05</td>\n",
              "      <td>Sunrisers Hyderabad</td>\n",
              "      <td>Royal Challengers Bangalore</td>\n",
              "      <td>Royal Challengers Bangalore</td>\n",
              "      <td>field</td>\n",
              "      <td>normal</td>\n",
              "      <td>Sunrisers Hyderabad</td>\n",
              "      <td>35</td>\n",
              "      <td>0</td>\n",
              "      <td>Yuvraj Singh</td>\n",
              "      <td>Rajiv Gandhi International Stadium, Uppal</td>\n",
              "      <td>AY Dandekar</td>\n",
              "      <td>NJ Llong</td>\n",
              "      <td>NA</td>\n",
              "    </tr>\n",
              "    <tr>\n",
              "      <th>...</th>\n",
              "      <td>...</td>\n",
              "      <td>...</td>\n",
              "      <td>...</td>\n",
              "      <td>...</td>\n",
              "      <td>...</td>\n",
              "      <td>...</td>\n",
              "      <td>...</td>\n",
              "      <td>...</td>\n",
              "      <td>...</td>\n",
              "      <td>...</td>\n",
              "      <td>...</td>\n",
              "      <td>...</td>\n",
              "      <td>...</td>\n",
              "      <td>...</td>\n",
              "      <td>...</td>\n",
              "      <td>...</td>\n",
              "      <td>...</td>\n",
              "      <td>...</td>\n",
              "      <td>...</td>\n",
              "      <td>...</td>\n",
              "      <td>...</td>\n",
              "      <td>...</td>\n",
              "      <td>...</td>\n",
              "      <td>...</td>\n",
              "      <td>...</td>\n",
              "      <td>...</td>\n",
              "      <td>...</td>\n",
              "      <td>...</td>\n",
              "      <td>...</td>\n",
              "      <td>...</td>\n",
              "      <td>...</td>\n",
              "      <td>...</td>\n",
              "      <td>...</td>\n",
              "      <td>...</td>\n",
              "      <td>...</td>\n",
              "      <td>...</td>\n",
              "      <td>...</td>\n",
              "    </tr>\n",
              "    <tr>\n",
              "      <th>41299</th>\n",
              "      <td>176</td>\n",
              "      <td>1</td>\n",
              "      <td>Mumbai Indians</td>\n",
              "      <td>Rajasthan Royals</td>\n",
              "      <td>14</td>\n",
              "      <td>4</td>\n",
              "      <td>AT Rayudu</td>\n",
              "      <td>SS Tiwary</td>\n",
              "      <td>YK Pathan</td>\n",
              "      <td>0</td>\n",
              "      <td>0</td>\n",
              "      <td>0.0</td>\n",
              "      <td>0.0</td>\n",
              "      <td>0.0</td>\n",
              "      <td>0.0</td>\n",
              "      <td>1.0</td>\n",
              "      <td>0.0</td>\n",
              "      <td>1.0</td>\n",
              "      <td>NA</td>\n",
              "      <td>NaN</td>\n",
              "      <td>NaN</td>\n",
              "      <td>176</td>\n",
              "      <td>Mumbai</td>\n",
              "      <td>2010-03-13</td>\n",
              "      <td>Mumbai Indians</td>\n",
              "      <td>Rajasthan Royals</td>\n",
              "      <td>Mumbai Indians</td>\n",
              "      <td>bat</td>\n",
              "      <td>normal</td>\n",
              "      <td>Mumbai Indians</td>\n",
              "      <td>4</td>\n",
              "      <td>0</td>\n",
              "      <td>YK Pathan</td>\n",
              "      <td>Brabourne Stadium</td>\n",
              "      <td>RE Koertzen</td>\n",
              "      <td>RB Tiffin</td>\n",
              "      <td>NA</td>\n",
              "    </tr>\n",
              "    <tr>\n",
              "      <th>41300</th>\n",
              "      <td>176</td>\n",
              "      <td>1</td>\n",
              "      <td>Mumbai Indians</td>\n",
              "      <td>Rajasthan Royals</td>\n",
              "      <td>14</td>\n",
              "      <td>5</td>\n",
              "      <td>SS Tiwary</td>\n",
              "      <td>AT Rayudu</td>\n",
              "      <td>YK Pathan</td>\n",
              "      <td>0</td>\n",
              "      <td>0</td>\n",
              "      <td>0.0</td>\n",
              "      <td>0.0</td>\n",
              "      <td>0.0</td>\n",
              "      <td>0.0</td>\n",
              "      <td>1.0</td>\n",
              "      <td>0.0</td>\n",
              "      <td>1.0</td>\n",
              "      <td>NA</td>\n",
              "      <td>NaN</td>\n",
              "      <td>NaN</td>\n",
              "      <td>176</td>\n",
              "      <td>Mumbai</td>\n",
              "      <td>2010-03-13</td>\n",
              "      <td>Mumbai Indians</td>\n",
              "      <td>Rajasthan Royals</td>\n",
              "      <td>Mumbai Indians</td>\n",
              "      <td>bat</td>\n",
              "      <td>normal</td>\n",
              "      <td>Mumbai Indians</td>\n",
              "      <td>4</td>\n",
              "      <td>0</td>\n",
              "      <td>YK Pathan</td>\n",
              "      <td>Brabourne Stadium</td>\n",
              "      <td>RE Koertzen</td>\n",
              "      <td>RB Tiffin</td>\n",
              "      <td>NA</td>\n",
              "    </tr>\n",
              "    <tr>\n",
              "      <th>41301</th>\n",
              "      <td>176</td>\n",
              "      <td>1</td>\n",
              "      <td>Mumbai Indians</td>\n",
              "      <td>Rajasthan Royals</td>\n",
              "      <td>14</td>\n",
              "      <td>6</td>\n",
              "      <td>AT Rayudu</td>\n",
              "      <td>SS Tiwary</td>\n",
              "      <td>YK Pathan</td>\n",
              "      <td>0</td>\n",
              "      <td>0</td>\n",
              "      <td>0.0</td>\n",
              "      <td>0.0</td>\n",
              "      <td>0.0</td>\n",
              "      <td>0.0</td>\n",
              "      <td>0.0</td>\n",
              "      <td>0.0</td>\n",
              "      <td>0.0</td>\n",
              "      <td>NA</td>\n",
              "      <td>NaN</td>\n",
              "      <td>NaN</td>\n",
              "      <td>176</td>\n",
              "      <td>Mumbai</td>\n",
              "      <td>2010-03-13</td>\n",
              "      <td>Mumbai Indians</td>\n",
              "      <td>Rajasthan Royals</td>\n",
              "      <td>Mumbai Indians</td>\n",
              "      <td>bat</td>\n",
              "      <td>normal</td>\n",
              "      <td>Mumbai Indians</td>\n",
              "      <td>4</td>\n",
              "      <td>0</td>\n",
              "      <td>YK Pathan</td>\n",
              "      <td>Brabourne Stadium</td>\n",
              "      <td>RE Koertzen</td>\n",
              "      <td>RB Tiffin</td>\n",
              "      <td>NA</td>\n",
              "    </tr>\n",
              "    <tr>\n",
              "      <th>41302</th>\n",
              "      <td>176</td>\n",
              "      <td>1</td>\n",
              "      <td>Mumbai Indians</td>\n",
              "      <td>Rajasthan Royals</td>\n",
              "      <td>15</td>\n",
              "      <td>1</td>\n",
              "      <td>SS Tiwary</td>\n",
              "      <td>AT Rayudu</td>\n",
              "      <td>AA Jhunjhunwala</td>\n",
              "      <td>0</td>\n",
              "      <td>0</td>\n",
              "      <td>0.0</td>\n",
              "      <td>0.0</td>\n",
              "      <td>0.0</td>\n",
              "      <td>0.0</td>\n",
              "      <td>4.0</td>\n",
              "      <td>0.0</td>\n",
              "      <td>4.0</td>\n",
              "      <td>NA</td>\n",
              "      <td>NaN</td>\n",
              "      <td>NaN</td>\n",
              "      <td>176</td>\n",
              "      <td>Mumbai</td>\n",
              "      <td>2010-03-13</td>\n",
              "      <td>Mumbai Indians</td>\n",
              "      <td>Rajasthan Royals</td>\n",
              "      <td>Mumbai Indians</td>\n",
              "      <td>bat</td>\n",
              "      <td>normal</td>\n",
              "      <td>Mumbai Indians</td>\n",
              "      <td>4</td>\n",
              "      <td>0</td>\n",
              "      <td>YK Pathan</td>\n",
              "      <td>Brabourne Stadium</td>\n",
              "      <td>RE Koertzen</td>\n",
              "      <td>RB Tiffin</td>\n",
              "      <td>NA</td>\n",
              "    </tr>\n",
              "    <tr>\n",
              "      <th>41303</th>\n",
              "      <td>176</td>\n",
              "      <td>1</td>\n",
              "      <td>Mumbai Indians</td>\n",
              "      <td>Rajasthan Royals</td>\n",
              "      <td>15</td>\n",
              "      <td>2</td>\n",
              "      <td>SS Tiwary</td>\n",
              "      <td>AT Rayudu</td>\n",
              "      <td>AA Jhunjhunwala</td>\n",
              "      <td>0</td>\n",
              "      <td>0</td>\n",
              "      <td>NaN</td>\n",
              "      <td>NaN</td>\n",
              "      <td>NaN</td>\n",
              "      <td>NaN</td>\n",
              "      <td>NaN</td>\n",
              "      <td>NaN</td>\n",
              "      <td>NaN</td>\n",
              "      <td>NA</td>\n",
              "      <td>NaN</td>\n",
              "      <td>NaN</td>\n",
              "      <td>176</td>\n",
              "      <td>Mumbai</td>\n",
              "      <td>2010-03-13</td>\n",
              "      <td>Mumbai Indians</td>\n",
              "      <td>Rajasthan Royals</td>\n",
              "      <td>Mumbai Indians</td>\n",
              "      <td>bat</td>\n",
              "      <td>normal</td>\n",
              "      <td>Mumbai Indians</td>\n",
              "      <td>4</td>\n",
              "      <td>0</td>\n",
              "      <td>YK Pathan</td>\n",
              "      <td>Brabourne Stadium</td>\n",
              "      <td>RE Koertzen</td>\n",
              "      <td>RB Tiffin</td>\n",
              "      <td>NA</td>\n",
              "    </tr>\n",
              "  </tbody>\n",
              "</table>\n",
              "<p>41304 rows × 37 columns</p>\n",
              "</div>"
            ],
            "text/plain": [
              "       match_id  inning         batting_team  ...      umpire1    umpire2  umpire3\n",
              "0             1       1  Sunrisers Hyderabad  ...  AY Dandekar   NJ Llong       NA\n",
              "1             1       1  Sunrisers Hyderabad  ...  AY Dandekar   NJ Llong       NA\n",
              "2             1       1  Sunrisers Hyderabad  ...  AY Dandekar   NJ Llong       NA\n",
              "3             1       1  Sunrisers Hyderabad  ...  AY Dandekar   NJ Llong       NA\n",
              "4             1       1  Sunrisers Hyderabad  ...  AY Dandekar   NJ Llong       NA\n",
              "...         ...     ...                  ...  ...          ...        ...      ...\n",
              "41299       176       1       Mumbai Indians  ...  RE Koertzen  RB Tiffin       NA\n",
              "41300       176       1       Mumbai Indians  ...  RE Koertzen  RB Tiffin       NA\n",
              "41301       176       1       Mumbai Indians  ...  RE Koertzen  RB Tiffin       NA\n",
              "41302       176       1       Mumbai Indians  ...  RE Koertzen  RB Tiffin       NA\n",
              "41303       176       1       Mumbai Indians  ...  RE Koertzen  RB Tiffin       NA\n",
              "\n",
              "[41304 rows x 37 columns]"
            ]
          },
          "metadata": {
            "tags": []
          },
          "execution_count": 33
        }
      ]
    },
    {
      "cell_type": "code",
      "metadata": {
        "colab": {
          "base_uri": "https://localhost:8080/",
          "height": 562
        },
        "id": "RpIVvC1MAT_-",
        "outputId": "393aa7d9-9796-4979-8ae2-e128a1454107"
      },
      "source": [
        "data_merge.corr().abs()"
      ],
      "execution_count": 34,
      "outputs": [
        {
          "output_type": "execute_result",
          "data": {
            "text/html": [
              "<div>\n",
              "<style scoped>\n",
              "    .dataframe tbody tr th:only-of-type {\n",
              "        vertical-align: middle;\n",
              "    }\n",
              "\n",
              "    .dataframe tbody tr th {\n",
              "        vertical-align: top;\n",
              "    }\n",
              "\n",
              "    .dataframe thead th {\n",
              "        text-align: right;\n",
              "    }\n",
              "</style>\n",
              "<table border=\"1\" class=\"dataframe\">\n",
              "  <thead>\n",
              "    <tr style=\"text-align: right;\">\n",
              "      <th></th>\n",
              "      <th>match_id</th>\n",
              "      <th>inning</th>\n",
              "      <th>over</th>\n",
              "      <th>ball</th>\n",
              "      <th>is_super_over</th>\n",
              "      <th>wide_runs</th>\n",
              "      <th>bye_runs</th>\n",
              "      <th>legbye_runs</th>\n",
              "      <th>noball_runs</th>\n",
              "      <th>penalty_runs</th>\n",
              "      <th>batsman_runs</th>\n",
              "      <th>extra_runs</th>\n",
              "      <th>total_runs</th>\n",
              "      <th>id</th>\n",
              "      <th>Bat_1</th>\n",
              "      <th>Ball_1</th>\n",
              "    </tr>\n",
              "  </thead>\n",
              "  <tbody>\n",
              "    <tr>\n",
              "      <th>match_id</th>\n",
              "      <td>1.000000</td>\n",
              "      <td>0.003373</td>\n",
              "      <td>0.003196</td>\n",
              "      <td>0.003521</td>\n",
              "      <td>0.005856</td>\n",
              "      <td>0.002981</td>\n",
              "      <td>0.006812</td>\n",
              "      <td>0.004570</td>\n",
              "      <td>0.014217</td>\n",
              "      <td>0.002175</td>\n",
              "      <td>0.043891</td>\n",
              "      <td>0.009897</td>\n",
              "      <td>0.042040</td>\n",
              "      <td>1.000000</td>\n",
              "      <td>0.044869</td>\n",
              "      <td>0.051842</td>\n",
              "    </tr>\n",
              "    <tr>\n",
              "      <th>inning</th>\n",
              "      <td>0.003373</td>\n",
              "      <td>1.000000</td>\n",
              "      <td>0.058539</td>\n",
              "      <td>0.002321</td>\n",
              "      <td>0.097130</td>\n",
              "      <td>0.006352</td>\n",
              "      <td>0.003352</td>\n",
              "      <td>0.007855</td>\n",
              "      <td>0.000909</td>\n",
              "      <td>0.005114</td>\n",
              "      <td>0.001665</td>\n",
              "      <td>0.008656</td>\n",
              "      <td>0.000240</td>\n",
              "      <td>0.003373</td>\n",
              "      <td>0.008829</td>\n",
              "      <td>0.027118</td>\n",
              "    </tr>\n",
              "    <tr>\n",
              "      <th>over</th>\n",
              "      <td>0.003196</td>\n",
              "      <td>0.058539</td>\n",
              "      <td>1.000000</td>\n",
              "      <td>0.014922</td>\n",
              "      <td>0.038609</td>\n",
              "      <td>0.021056</td>\n",
              "      <td>0.018843</td>\n",
              "      <td>0.003025</td>\n",
              "      <td>0.015521</td>\n",
              "      <td>0.001670</td>\n",
              "      <td>0.079102</td>\n",
              "      <td>0.007600</td>\n",
              "      <td>0.078036</td>\n",
              "      <td>0.003196</td>\n",
              "      <td>0.005313</td>\n",
              "      <td>0.042757</td>\n",
              "    </tr>\n",
              "    <tr>\n",
              "      <th>ball</th>\n",
              "      <td>0.003521</td>\n",
              "      <td>0.002321</td>\n",
              "      <td>0.014922</td>\n",
              "      <td>1.000000</td>\n",
              "      <td>0.001104</td>\n",
              "      <td>0.007226</td>\n",
              "      <td>0.003171</td>\n",
              "      <td>0.006696</td>\n",
              "      <td>0.007625</td>\n",
              "      <td>0.006440</td>\n",
              "      <td>0.009062</td>\n",
              "      <td>0.009294</td>\n",
              "      <td>0.007073</td>\n",
              "      <td>0.003521</td>\n",
              "      <td>0.000184</td>\n",
              "      <td>0.000715</td>\n",
              "    </tr>\n",
              "    <tr>\n",
              "      <th>is_super_over</th>\n",
              "      <td>0.005856</td>\n",
              "      <td>0.097130</td>\n",
              "      <td>0.038609</td>\n",
              "      <td>0.001104</td>\n",
              "      <td>1.000000</td>\n",
              "      <td>0.004131</td>\n",
              "      <td>0.007677</td>\n",
              "      <td>0.002131</td>\n",
              "      <td>0.011894</td>\n",
              "      <td>0.000119</td>\n",
              "      <td>0.009778</td>\n",
              "      <td>0.009247</td>\n",
              "      <td>0.011904</td>\n",
              "      <td>0.005856</td>\n",
              "      <td>0.012442</td>\n",
              "      <td>0.023512</td>\n",
              "    </tr>\n",
              "    <tr>\n",
              "      <th>wide_runs</th>\n",
              "      <td>0.002981</td>\n",
              "      <td>0.006352</td>\n",
              "      <td>0.021056</td>\n",
              "      <td>0.007226</td>\n",
              "      <td>0.004131</td>\n",
              "      <td>1.000000</td>\n",
              "      <td>0.006689</td>\n",
              "      <td>0.017385</td>\n",
              "      <td>0.010080</td>\n",
              "      <td>0.000748</td>\n",
              "      <td>0.115668</td>\n",
              "      <td>0.714991</td>\n",
              "      <td>0.041875</td>\n",
              "      <td>0.002981</td>\n",
              "      <td>0.004938</td>\n",
              "      <td>0.009711</td>\n",
              "    </tr>\n",
              "    <tr>\n",
              "      <th>bye_runs</th>\n",
              "      <td>0.006812</td>\n",
              "      <td>0.003352</td>\n",
              "      <td>0.018843</td>\n",
              "      <td>0.003171</td>\n",
              "      <td>0.007677</td>\n",
              "      <td>0.006689</td>\n",
              "      <td>1.000000</td>\n",
              "      <td>0.005035</td>\n",
              "      <td>0.002920</td>\n",
              "      <td>0.000217</td>\n",
              "      <td>0.033500</td>\n",
              "      <td>0.316897</td>\n",
              "      <td>0.036464</td>\n",
              "      <td>0.006812</td>\n",
              "      <td>0.002771</td>\n",
              "      <td>0.000996</td>\n",
              "    </tr>\n",
              "    <tr>\n",
              "      <th>legbye_runs</th>\n",
              "      <td>0.004570</td>\n",
              "      <td>0.007855</td>\n",
              "      <td>0.003025</td>\n",
              "      <td>0.006696</td>\n",
              "      <td>0.002131</td>\n",
              "      <td>0.017385</td>\n",
              "      <td>0.005035</td>\n",
              "      <td>1.000000</td>\n",
              "      <td>0.007589</td>\n",
              "      <td>0.000563</td>\n",
              "      <td>0.087076</td>\n",
              "      <td>0.565543</td>\n",
              "      <td>0.037571</td>\n",
              "      <td>0.004570</td>\n",
              "      <td>0.000762</td>\n",
              "      <td>0.005477</td>\n",
              "    </tr>\n",
              "    <tr>\n",
              "      <th>noball_runs</th>\n",
              "      <td>0.014217</td>\n",
              "      <td>0.000909</td>\n",
              "      <td>0.015521</td>\n",
              "      <td>0.007625</td>\n",
              "      <td>0.011894</td>\n",
              "      <td>0.010080</td>\n",
              "      <td>0.002920</td>\n",
              "      <td>0.007589</td>\n",
              "      <td>1.000000</td>\n",
              "      <td>0.000326</td>\n",
              "      <td>0.005353</td>\n",
              "      <td>0.197962</td>\n",
              "      <td>0.049264</td>\n",
              "      <td>0.014217</td>\n",
              "      <td>0.002931</td>\n",
              "      <td>0.000715</td>\n",
              "    </tr>\n",
              "    <tr>\n",
              "      <th>penalty_runs</th>\n",
              "      <td>0.002175</td>\n",
              "      <td>0.005114</td>\n",
              "      <td>0.001670</td>\n",
              "      <td>0.006440</td>\n",
              "      <td>0.000119</td>\n",
              "      <td>0.000748</td>\n",
              "      <td>0.000217</td>\n",
              "      <td>0.000563</td>\n",
              "      <td>0.000326</td>\n",
              "      <td>1.000000</td>\n",
              "      <td>0.003745</td>\n",
              "      <td>0.068606</td>\n",
              "      <td>0.011429</td>\n",
              "      <td>0.002175</td>\n",
              "      <td>0.002539</td>\n",
              "      <td>0.008185</td>\n",
              "    </tr>\n",
              "    <tr>\n",
              "      <th>batsman_runs</th>\n",
              "      <td>0.043891</td>\n",
              "      <td>0.001665</td>\n",
              "      <td>0.079102</td>\n",
              "      <td>0.009062</td>\n",
              "      <td>0.009778</td>\n",
              "      <td>0.115668</td>\n",
              "      <td>0.033500</td>\n",
              "      <td>0.087076</td>\n",
              "      <td>0.005353</td>\n",
              "      <td>0.003745</td>\n",
              "      <td>1.000000</td>\n",
              "      <td>0.145040</td>\n",
              "      <td>0.975666</td>\n",
              "      <td>0.043891</td>\n",
              "      <td>0.004208</td>\n",
              "      <td>0.003499</td>\n",
              "    </tr>\n",
              "    <tr>\n",
              "      <th>extra_runs</th>\n",
              "      <td>0.009897</td>\n",
              "      <td>0.008656</td>\n",
              "      <td>0.007600</td>\n",
              "      <td>0.009294</td>\n",
              "      <td>0.009247</td>\n",
              "      <td>0.714991</td>\n",
              "      <td>0.316897</td>\n",
              "      <td>0.565543</td>\n",
              "      <td>0.197962</td>\n",
              "      <td>0.068606</td>\n",
              "      <td>0.145040</td>\n",
              "      <td>1.000000</td>\n",
              "      <td>0.075432</td>\n",
              "      <td>0.009897</td>\n",
              "      <td>0.002349</td>\n",
              "      <td>0.003991</td>\n",
              "    </tr>\n",
              "    <tr>\n",
              "      <th>total_runs</th>\n",
              "      <td>0.042040</td>\n",
              "      <td>0.000240</td>\n",
              "      <td>0.078036</td>\n",
              "      <td>0.007073</td>\n",
              "      <td>0.011904</td>\n",
              "      <td>0.041875</td>\n",
              "      <td>0.036464</td>\n",
              "      <td>0.037571</td>\n",
              "      <td>0.049264</td>\n",
              "      <td>0.011429</td>\n",
              "      <td>0.975666</td>\n",
              "      <td>0.075432</td>\n",
              "      <td>1.000000</td>\n",
              "      <td>0.042040</td>\n",
              "      <td>0.003720</td>\n",
              "      <td>0.002641</td>\n",
              "    </tr>\n",
              "    <tr>\n",
              "      <th>id</th>\n",
              "      <td>1.000000</td>\n",
              "      <td>0.003373</td>\n",
              "      <td>0.003196</td>\n",
              "      <td>0.003521</td>\n",
              "      <td>0.005856</td>\n",
              "      <td>0.002981</td>\n",
              "      <td>0.006812</td>\n",
              "      <td>0.004570</td>\n",
              "      <td>0.014217</td>\n",
              "      <td>0.002175</td>\n",
              "      <td>0.043891</td>\n",
              "      <td>0.009897</td>\n",
              "      <td>0.042040</td>\n",
              "      <td>1.000000</td>\n",
              "      <td>0.044869</td>\n",
              "      <td>0.051842</td>\n",
              "    </tr>\n",
              "    <tr>\n",
              "      <th>Bat_1</th>\n",
              "      <td>0.044869</td>\n",
              "      <td>0.008829</td>\n",
              "      <td>0.005313</td>\n",
              "      <td>0.000184</td>\n",
              "      <td>0.012442</td>\n",
              "      <td>0.004938</td>\n",
              "      <td>0.002771</td>\n",
              "      <td>0.000762</td>\n",
              "      <td>0.002931</td>\n",
              "      <td>0.002539</td>\n",
              "      <td>0.004208</td>\n",
              "      <td>0.002349</td>\n",
              "      <td>0.003720</td>\n",
              "      <td>0.044869</td>\n",
              "      <td>1.000000</td>\n",
              "      <td>0.503182</td>\n",
              "    </tr>\n",
              "    <tr>\n",
              "      <th>Ball_1</th>\n",
              "      <td>0.051842</td>\n",
              "      <td>0.027118</td>\n",
              "      <td>0.042757</td>\n",
              "      <td>0.000715</td>\n",
              "      <td>0.023512</td>\n",
              "      <td>0.009711</td>\n",
              "      <td>0.000996</td>\n",
              "      <td>0.005477</td>\n",
              "      <td>0.000715</td>\n",
              "      <td>0.008185</td>\n",
              "      <td>0.003499</td>\n",
              "      <td>0.003991</td>\n",
              "      <td>0.002641</td>\n",
              "      <td>0.051842</td>\n",
              "      <td>0.503182</td>\n",
              "      <td>1.000000</td>\n",
              "    </tr>\n",
              "  </tbody>\n",
              "</table>\n",
              "</div>"
            ],
            "text/plain": [
              "               match_id    inning      over  ...        id     Bat_1    Ball_1\n",
              "match_id       1.000000  0.003373  0.003196  ...  1.000000  0.044869  0.051842\n",
              "inning         0.003373  1.000000  0.058539  ...  0.003373  0.008829  0.027118\n",
              "over           0.003196  0.058539  1.000000  ...  0.003196  0.005313  0.042757\n",
              "ball           0.003521  0.002321  0.014922  ...  0.003521  0.000184  0.000715\n",
              "is_super_over  0.005856  0.097130  0.038609  ...  0.005856  0.012442  0.023512\n",
              "wide_runs      0.002981  0.006352  0.021056  ...  0.002981  0.004938  0.009711\n",
              "bye_runs       0.006812  0.003352  0.018843  ...  0.006812  0.002771  0.000996\n",
              "legbye_runs    0.004570  0.007855  0.003025  ...  0.004570  0.000762  0.005477\n",
              "noball_runs    0.014217  0.000909  0.015521  ...  0.014217  0.002931  0.000715\n",
              "penalty_runs   0.002175  0.005114  0.001670  ...  0.002175  0.002539  0.008185\n",
              "batsman_runs   0.043891  0.001665  0.079102  ...  0.043891  0.004208  0.003499\n",
              "extra_runs     0.009897  0.008656  0.007600  ...  0.009897  0.002349  0.003991\n",
              "total_runs     0.042040  0.000240  0.078036  ...  0.042040  0.003720  0.002641\n",
              "id             1.000000  0.003373  0.003196  ...  1.000000  0.044869  0.051842\n",
              "Bat_1          0.044869  0.008829  0.005313  ...  0.044869  1.000000  0.503182\n",
              "Ball_1         0.051842  0.027118  0.042757  ...  0.051842  0.503182  1.000000\n",
              "\n",
              "[16 rows x 16 columns]"
            ]
          },
          "metadata": {
            "tags": []
          },
          "execution_count": 34
        }
      ]
    },
    {
      "cell_type": "code",
      "metadata": {
        "colab": {
          "base_uri": "https://localhost:8080/",
          "height": 928
        },
        "id": "yWdg6JQDWUbX",
        "outputId": "5e88435e-ba9d-47b9-ee1c-c1e9cf4fdc6a"
      },
      "source": [
        "plt.figure(figsize=(15,15))\n",
        "sns.heatmap(data_merge.corr(), annot=True, linewidth=1, cmap='Oranges');"
      ],
      "execution_count": 35,
      "outputs": [
        {
          "output_type": "display_data",
          "data": {
            "image/png": "[encoded data removed]",
            "text/plain": [
              "<Figure size 1080x1080 with 2 Axes>"
            ]
          },
          "metadata": {
            "tags": [],
            "needs_background": "light"
          }
        }
      ]
    },
    {
      "cell_type": "markdown",
      "metadata": {
        "id": "YUUc9IDsWabE"
      },
      "source": [
        "### Number of Matches Played in Each Stadium"
      ]
    },
    {
      "cell_type": "code",
      "metadata": {
        "colab": {
          "base_uri": "https://localhost:8080/",
          "height": 866
        },
        "id": "vw9MJNxLWdnY",
        "outputId": "890f2a84-ae33-4e8b-d65c-c704a53c2fc2"
      },
      "source": [
        "delivery=data_matches\n",
        "delivery.venue.value_counts()\n",
        "\n",
        "plt.figure(figsize=(10,10))\n",
        "sns.countplot(data=delivery, x='venue')\n",
        "plt.xticks(rotation=90)\n",
        "plt.show()"
      ],
      "execution_count": 36,
      "outputs": [
        {
          "output_type": "display_data",
          "data": {
            "image/png": "[encoded data removed]",
            "text/plain": [
              "<Figure size 720x720 with 1 Axes>"
            ]
          },
          "metadata": {
            "tags": [],
            "needs_background": "light"
          }
        }
      ]
    },
    {
      "cell_type": "markdown",
      "metadata": {
        "id": "RROljdj3WiYB"
      },
      "source": [
        "Most matches have been played in Eden Gardens followed by Wankhede Stadium.\n",
        "Teams who win toss choose to field first"
      ]
    },
    {
      "cell_type": "code",
      "metadata": {
        "colab": {
          "base_uri": "https://localhost:8080/",
          "height": 511
        },
        "id": "cVI57veKWjWH",
        "outputId": "3ac5a058-2891-4a20-b898-e1c691527082"
      },
      "source": [
        "team_stats = pd.DataFrame({'Total Matches played': data_matches.team1.value_counts() + data_matches.team2.value_counts(), 'Total won': data_matches.winner.value_counts(), 'Toss won': data_matches.toss_winner.value_counts(), \n",
        "                          'Total lost': ((data_matches.team1.value_counts() + data_matches.team2.value_counts()) - data_matches.winner.value_counts())})\n",
        "team_stats = team_stats.reset_index()\n",
        "team_stats.rename(columns = {'index':'Teams'}, inplace = True)\n",
        "winloss = team_stats['Total won'] / team_stats['Total Matches played']\n",
        "winloss = pd.DataFrame({'Winloss Ratio': team_stats['Total won'] / team_stats['Total Matches played']})\n",
        "winloss= winloss.round(2)\n",
        "team_stats = team_stats.join(winloss)\n",
        "team_stats"
      ],
      "execution_count": 37,
      "outputs": [
        {
          "output_type": "execute_result",
          "data": {
            "text/html": [
              "<div>\n",
              "<style scoped>\n",
              "    .dataframe tbody tr th:only-of-type {\n",
              "        vertical-align: middle;\n",
              "    }\n",
              "\n",
              "    .dataframe tbody tr th {\n",
              "        vertical-align: top;\n",
              "    }\n",
              "\n",
              "    .dataframe thead th {\n",
              "        text-align: right;\n",
              "    }\n",
              "</style>\n",
              "<table border=\"1\" class=\"dataframe\">\n",
              "  <thead>\n",
              "    <tr style=\"text-align: right;\">\n",
              "      <th></th>\n",
              "      <th>Teams</th>\n",
              "      <th>Total Matches played</th>\n",
              "      <th>Total won</th>\n",
              "      <th>Toss won</th>\n",
              "      <th>Total lost</th>\n",
              "      <th>Winloss Ratio</th>\n",
              "    </tr>\n",
              "  </thead>\n",
              "  <tbody>\n",
              "    <tr>\n",
              "      <th>0</th>\n",
              "      <td>Chennai Super Kings</td>\n",
              "      <td>164</td>\n",
              "      <td>100</td>\n",
              "      <td>89</td>\n",
              "      <td>64</td>\n",
              "      <td>0.61</td>\n",
              "    </tr>\n",
              "    <tr>\n",
              "      <th>1</th>\n",
              "      <td>Deccan Chargers</td>\n",
              "      <td>75</td>\n",
              "      <td>29</td>\n",
              "      <td>43</td>\n",
              "      <td>46</td>\n",
              "      <td>0.39</td>\n",
              "    </tr>\n",
              "    <tr>\n",
              "      <th>2</th>\n",
              "      <td>Delhi Capitals</td>\n",
              "      <td>16</td>\n",
              "      <td>10</td>\n",
              "      <td>10</td>\n",
              "      <td>6</td>\n",
              "      <td>0.62</td>\n",
              "    </tr>\n",
              "    <tr>\n",
              "      <th>3</th>\n",
              "      <td>Delhi Daredevils</td>\n",
              "      <td>161</td>\n",
              "      <td>67</td>\n",
              "      <td>80</td>\n",
              "      <td>94</td>\n",
              "      <td>0.42</td>\n",
              "    </tr>\n",
              "    <tr>\n",
              "      <th>4</th>\n",
              "      <td>Gujarat Lions</td>\n",
              "      <td>30</td>\n",
              "      <td>13</td>\n",
              "      <td>15</td>\n",
              "      <td>17</td>\n",
              "      <td>0.43</td>\n",
              "    </tr>\n",
              "    <tr>\n",
              "      <th>5</th>\n",
              "      <td>Kings XI Punjab</td>\n",
              "      <td>176</td>\n",
              "      <td>82</td>\n",
              "      <td>81</td>\n",
              "      <td>94</td>\n",
              "      <td>0.47</td>\n",
              "    </tr>\n",
              "    <tr>\n",
              "      <th>6</th>\n",
              "      <td>Kochi Tuskers Kerala</td>\n",
              "      <td>14</td>\n",
              "      <td>6</td>\n",
              "      <td>8</td>\n",
              "      <td>8</td>\n",
              "      <td>0.43</td>\n",
              "    </tr>\n",
              "    <tr>\n",
              "      <th>7</th>\n",
              "      <td>Kolkata Knight Riders</td>\n",
              "      <td>178</td>\n",
              "      <td>92</td>\n",
              "      <td>92</td>\n",
              "      <td>86</td>\n",
              "      <td>0.52</td>\n",
              "    </tr>\n",
              "    <tr>\n",
              "      <th>8</th>\n",
              "      <td>Mumbai Indians</td>\n",
              "      <td>187</td>\n",
              "      <td>113</td>\n",
              "      <td>98</td>\n",
              "      <td>74</td>\n",
              "      <td>0.60</td>\n",
              "    </tr>\n",
              "    <tr>\n",
              "      <th>9</th>\n",
              "      <td>Pune Warriors</td>\n",
              "      <td>46</td>\n",
              "      <td>12</td>\n",
              "      <td>20</td>\n",
              "      <td>34</td>\n",
              "      <td>0.26</td>\n",
              "    </tr>\n",
              "    <tr>\n",
              "      <th>10</th>\n",
              "      <td>Rajasthan Royals</td>\n",
              "      <td>147</td>\n",
              "      <td>75</td>\n",
              "      <td>80</td>\n",
              "      <td>72</td>\n",
              "      <td>0.51</td>\n",
              "    </tr>\n",
              "    <tr>\n",
              "      <th>11</th>\n",
              "      <td>Rising Pune Supergiant</td>\n",
              "      <td>16</td>\n",
              "      <td>10</td>\n",
              "      <td>6</td>\n",
              "      <td>6</td>\n",
              "      <td>0.62</td>\n",
              "    </tr>\n",
              "    <tr>\n",
              "      <th>12</th>\n",
              "      <td>Rising Pune Supergiants</td>\n",
              "      <td>14</td>\n",
              "      <td>5</td>\n",
              "      <td>7</td>\n",
              "      <td>9</td>\n",
              "      <td>0.36</td>\n",
              "    </tr>\n",
              "    <tr>\n",
              "      <th>13</th>\n",
              "      <td>Royal Challengers Bangalore</td>\n",
              "      <td>180</td>\n",
              "      <td>84</td>\n",
              "      <td>81</td>\n",
              "      <td>96</td>\n",
              "      <td>0.47</td>\n",
              "    </tr>\n",
              "    <tr>\n",
              "      <th>14</th>\n",
              "      <td>Sunrisers Hyderabad</td>\n",
              "      <td>108</td>\n",
              "      <td>58</td>\n",
              "      <td>46</td>\n",
              "      <td>50</td>\n",
              "      <td>0.54</td>\n",
              "    </tr>\n",
              "  </tbody>\n",
              "</table>\n",
              "</div>"
            ],
            "text/plain": [
              "                          Teams  ...  Winloss Ratio\n",
              "0           Chennai Super Kings  ...           0.61\n",
              "1               Deccan Chargers  ...           0.39\n",
              "2                Delhi Capitals  ...           0.62\n",
              "3              Delhi Daredevils  ...           0.42\n",
              "4                 Gujarat Lions  ...           0.43\n",
              "5               Kings XI Punjab  ...           0.47\n",
              "6          Kochi Tuskers Kerala  ...           0.43\n",
              "7         Kolkata Knight Riders  ...           0.52\n",
              "8                Mumbai Indians  ...           0.60\n",
              "9                 Pune Warriors  ...           0.26\n",
              "10             Rajasthan Royals  ...           0.51\n",
              "11       Rising Pune Supergiant  ...           0.62\n",
              "12      Rising Pune Supergiants  ...           0.36\n",
              "13  Royal Challengers Bangalore  ...           0.47\n",
              "14          Sunrisers Hyderabad  ...           0.54\n",
              "\n",
              "[15 rows x 6 columns]"
            ]
          },
          "metadata": {
            "tags": []
          },
          "execution_count": 37
        }
      ]
    },
    {
      "cell_type": "markdown",
      "metadata": {
        "id": "uhZJSx6XW4P-"
      },
      "source": [
        "### Maximum Toss Won"
      ]
    },
    {
      "cell_type": "code",
      "metadata": {
        "colab": {
          "base_uri": "https://localhost:8080/",
          "height": 578
        },
        "id": "jZgA8ghzW7Kw",
        "outputId": "6d112b9b-74b6-4c2b-ca41-90da86ff6484"
      },
      "source": [
        "plt.subplots(figsize=(10,7))\n",
        "data_matches['toss_winner'].value_counts().plot.bar(width=0.8)\n",
        "plt.title(\"Maximum Toss Won\");"
      ],
      "execution_count": 38,
      "outputs": [
        {
          "output_type": "display_data",
          "data": {
            "image/png": "[encoded data removed]",
            "text/plain": [
              "<Figure size 720x504 with 1 Axes>"
            ]
          },
          "metadata": {
            "tags": [],
            "needs_background": "light"
          }
        }
      ]
    },
    {
      "cell_type": "code",
      "metadata": {
        "colab": {
          "base_uri": "https://localhost:8080/",
          "height": 264
        },
        "id": "zDHetW5-XEfP",
        "outputId": "af631692-24bb-4066-ede2-8e3229bc7e4d"
      },
      "source": [
        "Tosswin_matchwin=data_matches[data_matches['toss_winner']==data_matches['winner']]\n",
        "slices=[len(Tosswin_matchwin),(len(data_matches)-len(Tosswin_matchwin))]\n",
        "labels=['Yes','No']\n",
        "plt.pie(slices,labels=labels,startangle=90,shadow=True,explode=(0,0),autopct='%1.1f%%')\n",
        "plt.title(\"Teams who had won Toss and Won the match\");\n",
        "\n"
      ],
      "execution_count": 39,
      "outputs": [
        {
          "output_type": "display_data",
          "data": {
            "image/png": "[encoded data removed]",
            "text/plain": [
              "<Figure size 432x288 with 1 Axes>"
            ]
          },
          "metadata": {
            "tags": []
          }
        }
      ]
    },
    {
      "cell_type": "markdown",
      "metadata": {
        "id": "CcaXp1rHXTTK"
      },
      "source": [
        "### Deciding Whether to Bat or Field After Winning the Toss"
      ]
    },
    {
      "cell_type": "code",
      "metadata": {
        "colab": {
          "base_uri": "https://localhost:8080/",
          "height": 265
        },
        "id": "xSwy1sYtXV_S",
        "outputId": "651bac30-e5d5-46af-c0a2-c540b9236271"
      },
      "source": [
        "delivery.toss_decision.value_counts().plot(kind='bar')\n",
        "plt.xticks(rotation=0);"
      ],
      "execution_count": 40,
      "outputs": [
        {
          "output_type": "display_data",
          "data": {
            "image/png": "[encoded data removed]",
            "text/plain": [
              "<Figure size 432x288 with 1 Axes>"
            ]
          },
          "metadata": {
            "tags": [],
            "needs_background": "light"
          }
        }
      ]
    },
    {
      "cell_type": "markdown",
      "metadata": {
        "id": "rXjVy078Xafv"
      },
      "source": [
        "### Relation between Winning toss and victory"
      ]
    },
    {
      "cell_type": "code",
      "metadata": {
        "colab": {
          "base_uri": "https://localhost:8080/",
          "height": 513
        },
        "id": "Tg1FdpPZXdmI",
        "outputId": "083e10f2-ef3c-4114-d797-4907875a1d41"
      },
      "source": [
        "delivery\n",
        "delivery['team_toss_win']=np.where((delivery.toss_winner==delivery.winner),1,0)\n",
        "plt.figure(figsize=(10,8))\n",
        "sns.countplot('team_toss_win', data=delivery, hue='toss_decision')\n",
        "plt.xlabel(\"Winning the Toss vs Winning the Match\")\n",
        "plt.ylabel(\"Frequency\")\n",
        "plt.title(\"Toss Wins vs Victory\");"
      ],
      "execution_count": 41,
      "outputs": [
        {
          "output_type": "display_data",
          "data": {
            "image/png": "[encoded data removed]",
            "text/plain": [
              "<Figure size 720x576 with 1 Axes>"
            ]
          },
          "metadata": {
            "tags": [],
            "needs_background": "light"
          }
        }
      ]
    },
    {
      "cell_type": "markdown",
      "metadata": {
        "id": "m4Z1CzNGXkel"
      },
      "source": [
        "Teams who choose to field after winning the toss have high chances of winning."
      ]
    },
    {
      "cell_type": "markdown",
      "metadata": {
        "id": "53stpRKuXlXP"
      },
      "source": [
        "### Batsmen overview"
      ]
    },
    {
      "cell_type": "code",
      "metadata": {
        "colab": {
          "base_uri": "https://localhost:8080/",
          "height": 388
        },
        "id": "MBmrFCdWXj7a",
        "outputId": "3bee8f54-68b4-406e-b10f-08305748581b"
      },
      "source": [
        "\n",
        "batsmen = data_deliveries.groupby(\"batsman\").agg({'ball': 'count','batsman_runs': 'sum'})\n",
        "batsmen.rename(columns={'ball':'balls', 'batsman_runs': 'runs'}, inplace=True)\n",
        "batsmen = batsmen.sort_values(['balls','runs'], ascending=False)\n",
        "batsmen['batting_strike_rate'] = batsmen['runs']/batsmen['balls'] * 100\n",
        "batsmen['batting_strike_rate'] = batsmen['batting_strike_rate'].round(2)\n",
        "batsmen.head(10)"
      ],
      "execution_count": 42,
      "outputs": [
        {
          "output_type": "execute_result",
          "data": {
            "text/html": [
              "<div>\n",
              "<style scoped>\n",
              "    .dataframe tbody tr th:only-of-type {\n",
              "        vertical-align: middle;\n",
              "    }\n",
              "\n",
              "    .dataframe tbody tr th {\n",
              "        vertical-align: top;\n",
              "    }\n",
              "\n",
              "    .dataframe thead th {\n",
              "        text-align: right;\n",
              "    }\n",
              "</style>\n",
              "<table border=\"1\" class=\"dataframe\">\n",
              "  <thead>\n",
              "    <tr style=\"text-align: right;\">\n",
              "      <th></th>\n",
              "      <th>balls</th>\n",
              "      <th>runs</th>\n",
              "      <th>batting_strike_rate</th>\n",
              "    </tr>\n",
              "    <tr>\n",
              "      <th>batsman</th>\n",
              "      <th></th>\n",
              "      <th></th>\n",
              "      <th></th>\n",
              "    </tr>\n",
              "  </thead>\n",
              "  <tbody>\n",
              "    <tr>\n",
              "      <th>G Gambhir</th>\n",
              "      <td>1082</td>\n",
              "      <td>1318.0</td>\n",
              "      <td>121.81</td>\n",
              "    </tr>\n",
              "    <tr>\n",
              "      <th>SK Raina</th>\n",
              "      <td>932</td>\n",
              "      <td>1297.0</td>\n",
              "      <td>139.16</td>\n",
              "    </tr>\n",
              "    <tr>\n",
              "      <th>RG Sharma</th>\n",
              "      <td>889</td>\n",
              "      <td>1112.0</td>\n",
              "      <td>125.08</td>\n",
              "    </tr>\n",
              "    <tr>\n",
              "      <th>MS Dhoni</th>\n",
              "      <td>850</td>\n",
              "      <td>1036.0</td>\n",
              "      <td>121.88</td>\n",
              "    </tr>\n",
              "    <tr>\n",
              "      <th>PA Patel</th>\n",
              "      <td>754</td>\n",
              "      <td>839.0</td>\n",
              "      <td>111.27</td>\n",
              "    </tr>\n",
              "    <tr>\n",
              "      <th>S Dhawan</th>\n",
              "      <td>737</td>\n",
              "      <td>859.0</td>\n",
              "      <td>116.55</td>\n",
              "    </tr>\n",
              "    <tr>\n",
              "      <th>RV Uthappa</th>\n",
              "      <td>707</td>\n",
              "      <td>883.0</td>\n",
              "      <td>124.89</td>\n",
              "    </tr>\n",
              "    <tr>\n",
              "      <th>AC Gilchrist</th>\n",
              "      <td>704</td>\n",
              "      <td>985.0</td>\n",
              "      <td>139.91</td>\n",
              "    </tr>\n",
              "    <tr>\n",
              "      <th>Yuvraj Singh</th>\n",
              "      <td>696</td>\n",
              "      <td>891.0</td>\n",
              "      <td>128.02</td>\n",
              "    </tr>\n",
              "    <tr>\n",
              "      <th>SE Marsh</th>\n",
              "      <td>650</td>\n",
              "      <td>880.0</td>\n",
              "      <td>135.38</td>\n",
              "    </tr>\n",
              "  </tbody>\n",
              "</table>\n",
              "</div>"
            ],
            "text/plain": [
              "              balls    runs  batting_strike_rate\n",
              "batsman                                         \n",
              "G Gambhir      1082  1318.0               121.81\n",
              "SK Raina        932  1297.0               139.16\n",
              "RG Sharma       889  1112.0               125.08\n",
              "MS Dhoni        850  1036.0               121.88\n",
              "PA Patel        754   839.0               111.27\n",
              "S Dhawan        737   859.0               116.55\n",
              "RV Uthappa      707   883.0               124.89\n",
              "AC Gilchrist    704   985.0               139.91\n",
              "Yuvraj Singh    696   891.0               128.02\n",
              "SE Marsh        650   880.0               135.38"
            ]
          },
          "metadata": {
            "tags": []
          },
          "execution_count": 42
        }
      ]
    },
    {
      "cell_type": "code",
      "metadata": {
        "id": "UbZJp9IGXvqk"
      },
      "source": [
        "#utility function used later\n",
        "def trybuild(lookuplist, buildlist):\n",
        "    alist = []\n",
        "    for i in buildlist.index:\n",
        "        try:\n",
        "            #print(i)\n",
        "            alist.append(lookuplist[i])\n",
        "            #print(alist)\n",
        "        except KeyError:\n",
        "            #print('except')\n",
        "            alist.append(0)\n",
        "    return alist"
      ],
      "execution_count": 43,
      "outputs": []
    },
    {
      "cell_type": "code",
      "metadata": {
        "colab": {
          "base_uri": "https://localhost:8080/",
          "height": 696
        },
        "id": "UtEy6I56XyWi",
        "outputId": "0e65857e-5f04-419a-cbe2-ec5421e0f494"
      },
      "source": [
        "TopBatsman = batsmen.sort_values(['balls','runs'], ascending=False)[:20]\n",
        "TopBatsman"
      ],
      "execution_count": 44,
      "outputs": [
        {
          "output_type": "execute_result",
          "data": {
            "text/html": [
              "<div>\n",
              "<style scoped>\n",
              "    .dataframe tbody tr th:only-of-type {\n",
              "        vertical-align: middle;\n",
              "    }\n",
              "\n",
              "    .dataframe tbody tr th {\n",
              "        vertical-align: top;\n",
              "    }\n",
              "\n",
              "    .dataframe thead th {\n",
              "        text-align: right;\n",
              "    }\n",
              "</style>\n",
              "<table border=\"1\" class=\"dataframe\">\n",
              "  <thead>\n",
              "    <tr style=\"text-align: right;\">\n",
              "      <th></th>\n",
              "      <th>balls</th>\n",
              "      <th>runs</th>\n",
              "      <th>batting_strike_rate</th>\n",
              "    </tr>\n",
              "    <tr>\n",
              "      <th>batsman</th>\n",
              "      <th></th>\n",
              "      <th></th>\n",
              "      <th></th>\n",
              "    </tr>\n",
              "  </thead>\n",
              "  <tbody>\n",
              "    <tr>\n",
              "      <th>G Gambhir</th>\n",
              "      <td>1082</td>\n",
              "      <td>1318.0</td>\n",
              "      <td>121.81</td>\n",
              "    </tr>\n",
              "    <tr>\n",
              "      <th>SK Raina</th>\n",
              "      <td>932</td>\n",
              "      <td>1297.0</td>\n",
              "      <td>139.16</td>\n",
              "    </tr>\n",
              "    <tr>\n",
              "      <th>RG Sharma</th>\n",
              "      <td>889</td>\n",
              "      <td>1112.0</td>\n",
              "      <td>125.08</td>\n",
              "    </tr>\n",
              "    <tr>\n",
              "      <th>MS Dhoni</th>\n",
              "      <td>850</td>\n",
              "      <td>1036.0</td>\n",
              "      <td>121.88</td>\n",
              "    </tr>\n",
              "    <tr>\n",
              "      <th>PA Patel</th>\n",
              "      <td>754</td>\n",
              "      <td>839.0</td>\n",
              "      <td>111.27</td>\n",
              "    </tr>\n",
              "    <tr>\n",
              "      <th>S Dhawan</th>\n",
              "      <td>737</td>\n",
              "      <td>859.0</td>\n",
              "      <td>116.55</td>\n",
              "    </tr>\n",
              "    <tr>\n",
              "      <th>RV Uthappa</th>\n",
              "      <td>707</td>\n",
              "      <td>883.0</td>\n",
              "      <td>124.89</td>\n",
              "    </tr>\n",
              "    <tr>\n",
              "      <th>AC Gilchrist</th>\n",
              "      <td>704</td>\n",
              "      <td>985.0</td>\n",
              "      <td>139.91</td>\n",
              "    </tr>\n",
              "    <tr>\n",
              "      <th>Yuvraj Singh</th>\n",
              "      <td>696</td>\n",
              "      <td>891.0</td>\n",
              "      <td>128.02</td>\n",
              "    </tr>\n",
              "    <tr>\n",
              "      <th>SE Marsh</th>\n",
              "      <td>650</td>\n",
              "      <td>880.0</td>\n",
              "      <td>135.38</td>\n",
              "    </tr>\n",
              "    <tr>\n",
              "      <th>V Kohli</th>\n",
              "      <td>650</td>\n",
              "      <td>719.0</td>\n",
              "      <td>110.62</td>\n",
              "    </tr>\n",
              "    <tr>\n",
              "      <th>AB de Villiers</th>\n",
              "      <td>630</td>\n",
              "      <td>776.0</td>\n",
              "      <td>123.17</td>\n",
              "    </tr>\n",
              "    <tr>\n",
              "      <th>KD Karthik</th>\n",
              "      <td>600</td>\n",
              "      <td>794.0</td>\n",
              "      <td>132.33</td>\n",
              "    </tr>\n",
              "    <tr>\n",
              "      <th>DA Warner</th>\n",
              "      <td>599</td>\n",
              "      <td>804.0</td>\n",
              "      <td>134.22</td>\n",
              "    </tr>\n",
              "    <tr>\n",
              "      <th>GC Smith</th>\n",
              "      <td>597</td>\n",
              "      <td>653.0</td>\n",
              "      <td>109.38</td>\n",
              "    </tr>\n",
              "    <tr>\n",
              "      <th>BB McCullum</th>\n",
              "      <td>571</td>\n",
              "      <td>794.0</td>\n",
              "      <td>139.05</td>\n",
              "    </tr>\n",
              "    <tr>\n",
              "      <th>YK Pathan</th>\n",
              "      <td>568</td>\n",
              "      <td>839.0</td>\n",
              "      <td>147.71</td>\n",
              "    </tr>\n",
              "    <tr>\n",
              "      <th>ST Jayasuriya</th>\n",
              "      <td>553</td>\n",
              "      <td>758.0</td>\n",
              "      <td>137.07</td>\n",
              "    </tr>\n",
              "    <tr>\n",
              "      <th>ML Hayden</th>\n",
              "      <td>544</td>\n",
              "      <td>761.0</td>\n",
              "      <td>139.89</td>\n",
              "    </tr>\n",
              "    <tr>\n",
              "      <th>SC Ganguly</th>\n",
              "      <td>540</td>\n",
              "      <td>538.0</td>\n",
              "      <td>99.63</td>\n",
              "    </tr>\n",
              "  </tbody>\n",
              "</table>\n",
              "</div>"
            ],
            "text/plain": [
              "                balls    runs  batting_strike_rate\n",
              "batsman                                           \n",
              "G Gambhir        1082  1318.0               121.81\n",
              "SK Raina          932  1297.0               139.16\n",
              "RG Sharma         889  1112.0               125.08\n",
              "MS Dhoni          850  1036.0               121.88\n",
              "PA Patel          754   839.0               111.27\n",
              "S Dhawan          737   859.0               116.55\n",
              "RV Uthappa        707   883.0               124.89\n",
              "AC Gilchrist      704   985.0               139.91\n",
              "Yuvraj Singh      696   891.0               128.02\n",
              "SE Marsh          650   880.0               135.38\n",
              "V Kohli           650   719.0               110.62\n",
              "AB de Villiers    630   776.0               123.17\n",
              "KD Karthik        600   794.0               132.33\n",
              "DA Warner         599   804.0               134.22\n",
              "GC Smith          597   653.0               109.38\n",
              "BB McCullum       571   794.0               139.05\n",
              "YK Pathan         568   839.0               147.71\n",
              "ST Jayasuriya     553   758.0               137.07\n",
              "ML Hayden         544   761.0               139.89\n",
              "SC Ganguly        540   538.0                99.63"
            ]
          },
          "metadata": {
            "tags": []
          },
          "execution_count": 44
        }
      ]
    },
    {
      "cell_type": "code",
      "metadata": {
        "colab": {
          "base_uri": "https://localhost:8080/",
          "height": 388
        },
        "id": "8wmI5m1gX2HJ",
        "outputId": "f04136d6-3f6b-49e7-a6aa-7b946f72a738"
      },
      "source": [
        "alist = []\n",
        "for r in data_deliveries.batsman_runs.unique():\n",
        "    lookuplist = data_deliveries[data_deliveries.batsman_runs == r].groupby('batsman')['batsman'].count()\n",
        "    batsmen[str(r) + 's'] = trybuild(lookuplist, batsmen)\n",
        "    try:\n",
        "        alist.append(lookuplist[r])\n",
        "    except KeyError:\n",
        "        alist.append(0)\n",
        "TopBatsman = batsmen.sort_values(['balls','runs'], ascending=False)[:20]\n",
        "TopBatsman.head(10)"
      ],
      "execution_count": 45,
      "outputs": [
        {
          "output_type": "execute_result",
          "data": {
            "text/html": [
              "<div>\n",
              "<style scoped>\n",
              "    .dataframe tbody tr th:only-of-type {\n",
              "        vertical-align: middle;\n",
              "    }\n",
              "\n",
              "    .dataframe tbody tr th {\n",
              "        vertical-align: top;\n",
              "    }\n",
              "\n",
              "    .dataframe thead th {\n",
              "        text-align: right;\n",
              "    }\n",
              "</style>\n",
              "<table border=\"1\" class=\"dataframe\">\n",
              "  <thead>\n",
              "    <tr style=\"text-align: right;\">\n",
              "      <th></th>\n",
              "      <th>balls</th>\n",
              "      <th>runs</th>\n",
              "      <th>batting_strike_rate</th>\n",
              "      <th>0.0s</th>\n",
              "      <th>4.0s</th>\n",
              "      <th>1.0s</th>\n",
              "      <th>6.0s</th>\n",
              "      <th>3.0s</th>\n",
              "      <th>2.0s</th>\n",
              "      <th>5.0s</th>\n",
              "      <th>nans</th>\n",
              "    </tr>\n",
              "    <tr>\n",
              "      <th>batsman</th>\n",
              "      <th></th>\n",
              "      <th></th>\n",
              "      <th></th>\n",
              "      <th></th>\n",
              "      <th></th>\n",
              "      <th></th>\n",
              "      <th></th>\n",
              "      <th></th>\n",
              "      <th></th>\n",
              "      <th></th>\n",
              "      <th></th>\n",
              "    </tr>\n",
              "  </thead>\n",
              "  <tbody>\n",
              "    <tr>\n",
              "      <th>G Gambhir</th>\n",
              "      <td>1082</td>\n",
              "      <td>1318.0</td>\n",
              "      <td>121.81</td>\n",
              "      <td>413</td>\n",
              "      <td>162</td>\n",
              "      <td>414</td>\n",
              "      <td>17</td>\n",
              "      <td>2</td>\n",
              "      <td>74</td>\n",
              "      <td>0</td>\n",
              "      <td>0</td>\n",
              "    </tr>\n",
              "    <tr>\n",
              "      <th>SK Raina</th>\n",
              "      <td>932</td>\n",
              "      <td>1297.0</td>\n",
              "      <td>139.16</td>\n",
              "      <td>301</td>\n",
              "      <td>114</td>\n",
              "      <td>401</td>\n",
              "      <td>52</td>\n",
              "      <td>0</td>\n",
              "      <td>64</td>\n",
              "      <td>0</td>\n",
              "      <td>0</td>\n",
              "    </tr>\n",
              "    <tr>\n",
              "      <th>RG Sharma</th>\n",
              "      <td>889</td>\n",
              "      <td>1112.0</td>\n",
              "      <td>125.08</td>\n",
              "      <td>340</td>\n",
              "      <td>93</td>\n",
              "      <td>360</td>\n",
              "      <td>46</td>\n",
              "      <td>4</td>\n",
              "      <td>46</td>\n",
              "      <td>0</td>\n",
              "      <td>0</td>\n",
              "    </tr>\n",
              "    <tr>\n",
              "      <th>MS Dhoni</th>\n",
              "      <td>850</td>\n",
              "      <td>1036.0</td>\n",
              "      <td>121.88</td>\n",
              "      <td>315</td>\n",
              "      <td>75</td>\n",
              "      <td>347</td>\n",
              "      <td>40</td>\n",
              "      <td>3</td>\n",
              "      <td>70</td>\n",
              "      <td>0</td>\n",
              "      <td>0</td>\n",
              "    </tr>\n",
              "    <tr>\n",
              "      <th>PA Patel</th>\n",
              "      <td>754</td>\n",
              "      <td>839.0</td>\n",
              "      <td>111.27</td>\n",
              "      <td>350</td>\n",
              "      <td>110</td>\n",
              "      <td>242</td>\n",
              "      <td>13</td>\n",
              "      <td>1</td>\n",
              "      <td>38</td>\n",
              "      <td>0</td>\n",
              "      <td>0</td>\n",
              "    </tr>\n",
              "    <tr>\n",
              "      <th>S Dhawan</th>\n",
              "      <td>737</td>\n",
              "      <td>859.0</td>\n",
              "      <td>116.55</td>\n",
              "      <td>286</td>\n",
              "      <td>91</td>\n",
              "      <td>296</td>\n",
              "      <td>17</td>\n",
              "      <td>3</td>\n",
              "      <td>44</td>\n",
              "      <td>0</td>\n",
              "      <td>0</td>\n",
              "    </tr>\n",
              "    <tr>\n",
              "      <th>RV Uthappa</th>\n",
              "      <td>707</td>\n",
              "      <td>883.0</td>\n",
              "      <td>124.89</td>\n",
              "      <td>293</td>\n",
              "      <td>88</td>\n",
              "      <td>256</td>\n",
              "      <td>33</td>\n",
              "      <td>3</td>\n",
              "      <td>34</td>\n",
              "      <td>0</td>\n",
              "      <td>0</td>\n",
              "    </tr>\n",
              "    <tr>\n",
              "      <th>AC Gilchrist</th>\n",
              "      <td>704</td>\n",
              "      <td>985.0</td>\n",
              "      <td>139.91</td>\n",
              "      <td>328</td>\n",
              "      <td>108</td>\n",
              "      <td>189</td>\n",
              "      <td>51</td>\n",
              "      <td>2</td>\n",
              "      <td>26</td>\n",
              "      <td>0</td>\n",
              "      <td>0</td>\n",
              "    </tr>\n",
              "    <tr>\n",
              "      <th>Yuvraj Singh</th>\n",
              "      <td>696</td>\n",
              "      <td>891.0</td>\n",
              "      <td>128.02</td>\n",
              "      <td>291</td>\n",
              "      <td>79</td>\n",
              "      <td>250</td>\n",
              "      <td>43</td>\n",
              "      <td>1</td>\n",
              "      <td>32</td>\n",
              "      <td>0</td>\n",
              "      <td>0</td>\n",
              "    </tr>\n",
              "    <tr>\n",
              "      <th>SE Marsh</th>\n",
              "      <td>650</td>\n",
              "      <td>880.0</td>\n",
              "      <td>135.38</td>\n",
              "      <td>247</td>\n",
              "      <td>95</td>\n",
              "      <td>242</td>\n",
              "      <td>31</td>\n",
              "      <td>2</td>\n",
              "      <td>33</td>\n",
              "      <td>0</td>\n",
              "      <td>0</td>\n",
              "    </tr>\n",
              "  </tbody>\n",
              "</table>\n",
              "</div>"
            ],
            "text/plain": [
              "              balls    runs  batting_strike_rate  0.0s  ...  3.0s  2.0s  5.0s  nans\n",
              "batsman                                                 ...                        \n",
              "G Gambhir      1082  1318.0               121.81   413  ...     2    74     0     0\n",
              "SK Raina        932  1297.0               139.16   301  ...     0    64     0     0\n",
              "RG Sharma       889  1112.0               125.08   340  ...     4    46     0     0\n",
              "MS Dhoni        850  1036.0               121.88   315  ...     3    70     0     0\n",
              "PA Patel        754   839.0               111.27   350  ...     1    38     0     0\n",
              "S Dhawan        737   859.0               116.55   286  ...     3    44     0     0\n",
              "RV Uthappa      707   883.0               124.89   293  ...     3    34     0     0\n",
              "AC Gilchrist    704   985.0               139.91   328  ...     2    26     0     0\n",
              "Yuvraj Singh    696   891.0               128.02   291  ...     1    32     0     0\n",
              "SE Marsh        650   880.0               135.38   247  ...     2    33     0     0\n",
              "\n",
              "[10 rows x 11 columns]"
            ]
          },
          "metadata": {
            "tags": []
          },
          "execution_count": 45
        }
      ]
    },
    {
      "cell_type": "code",
      "metadata": {
        "id": "XJh74iKNX2Ji"
      },
      "source": [
        "#Build a dictionary of Matches player by each batsman\n",
        "played = {}\n",
        "def BuildPlayedDict(x):\n",
        "    #print(x.shape, x.shape[0], x.shape[1])\n",
        "    for p in x.batsman.unique():\n",
        "        if p in played:\n",
        "            played[p] += 1\n",
        "        else:\n",
        "            played[p] = 1\n",
        "\n",
        "data_deliveries.groupby('match_id').apply(BuildPlayedDict)\n",
        "import operator"
      ],
      "execution_count": 46,
      "outputs": []
    },
    {
      "cell_type": "markdown",
      "metadata": {
        "id": "8px9GoFjYCz2"
      },
      "source": [
        "Total runs by each batsmen"
      ]
    },
    {
      "cell_type": "code",
      "metadata": {
        "colab": {
          "base_uri": "https://localhost:8080/",
          "height": 570
        },
        "id": "yVKXoJ2kX7sV",
        "outputId": "874693df-5105-4141-af8d-175447e116c1"
      },
      "source": [
        "plt.figure(figsize=(10,8))\n",
        "plt.bar(np.arange(len(TopBatsman)),TopBatsman['runs'])\n",
        "plt.xticks(ticks=np.arange(len(TopBatsman)),labels=TopBatsman.index,rotation=90)\n",
        "plt.xlabel('Batsmen')\n",
        "plt.ylabel('Runs')\n",
        "plt.title('Total Runs')\n",
        "plt.show()\n"
      ],
      "execution_count": 49,
      "outputs": [
        {
          "output_type": "display_data",
          "data": {
            "image/png": "[encoded data removed]",
            "text/plain": [
              "<Figure size 720x576 with 1 Axes>"
            ]
          },
          "metadata": {
            "tags": [],
            "needs_background": "light"
          }
        }
      ]
    },
    {
      "cell_type": "markdown",
      "metadata": {
        "id": "KFNpl7hWYJa-"
      },
      "source": [
        "Each batsmen strike rate"
      ]
    },
    {
      "cell_type": "code",
      "metadata": {
        "colab": {
          "base_uri": "https://localhost:8080/",
          "height": 570
        },
        "id": "AarTBR3FYJIO",
        "outputId": "1873f686-d94f-4fc8-f2a7-9742e7a85b06"
      },
      "source": [
        "plt.figure(figsize=(10,8))\n",
        "plt.bar(np.arange(len(TopBatsman)),TopBatsman['batting_strike_rate'])\n",
        "plt.xticks(ticks=np.arange(len(TopBatsman)),labels=TopBatsman.index,rotation=90)\n",
        "plt.xlabel('Batsmen')\n",
        "plt.ylabel('Strike Rate')\n",
        "plt.title('Batsmen Strike Rate')\n",
        "plt.show()"
      ],
      "execution_count": 50,
      "outputs": [
        {
          "output_type": "display_data",
          "data": {
            "image/png": "[encoded data removed]",
            "text/plain": [
              "<Figure size 720x576 with 1 Axes>"
            ]
          },
          "metadata": {
            "tags": [],
            "needs_background": "light"
          }
        }
      ]
    },
    {
      "cell_type": "markdown",
      "metadata": {
        "id": "vdsi1qViYQOF"
      },
      "source": [
        "Top 5 Batsmen"
      ]
    },
    {
      "cell_type": "code",
      "metadata": {
        "colab": {
          "base_uri": "https://localhost:8080/",
          "height": 344
        },
        "id": "WF6A38LKYQah",
        "outputId": "683fa3ab-a24c-4370-cd37-05cebf1b8078"
      },
      "source": [
        "data_deliveries.groupby('batsman')['batsman_runs'].agg(\"sum\").sort_values(ascending= False).head().plot(kind='bar', color='Green')\n",
        "plt.title(\"Top 5 Batsmen\");"
      ],
      "execution_count": 52,
      "outputs": [
        {
          "output_type": "display_data",
          "data": {
            "image/png": "[encoded data removed]",
            "text/plain": [
              "<Figure size 432x288 with 1 Axes>"
            ]
          },
          "metadata": {
            "tags": [],
            "needs_background": "light"
          }
        }
      ]
    },
    {
      "cell_type": "markdown",
      "metadata": {
        "id": "rrPY1RWTYfqm"
      },
      "source": [
        "Virat Kohli and S.K Raina Scored the most runs, so probability is that in whichever team they are that team has high chances of winning by runs.\n",
        "It is an important factor for a batsman in an T20 league to maintain a good strike rate. AB de Villiers and CH Gayle have almost equal strike rates."
      ]
    },
    {
      "cell_type": "markdown",
      "metadata": {
        "id": "5mkpKn0GYhsx"
      },
      "source": [
        "### Bowler information"
      ]
    },
    {
      "cell_type": "code",
      "metadata": {
        "colab": {
          "base_uri": "https://localhost:8080/",
          "height": 696
        },
        "id": "bJU0Hr9oYQcV",
        "outputId": "11a3aff3-a1a4-423e-e060-a490a9470422"
      },
      "source": [
        "bowler_wickets = data_deliveries.groupby('bowler').aggregate({'ball': 'count', 'total_runs': 'sum', 'player_dismissed' : 'count'})\n",
        "bowler_wickets.columns = ['runs','balls','wickets']\n",
        "TopBowlers = bowler_wickets.sort_values(['wickets'], ascending=False)[:20]\n",
        "TopBowlers"
      ],
      "execution_count": 53,
      "outputs": [
        {
          "output_type": "execute_result",
          "data": {
            "text/html": [
              "<div>\n",
              "<style scoped>\n",
              "    .dataframe tbody tr th:only-of-type {\n",
              "        vertical-align: middle;\n",
              "    }\n",
              "\n",
              "    .dataframe tbody tr th {\n",
              "        vertical-align: top;\n",
              "    }\n",
              "\n",
              "    .dataframe thead th {\n",
              "        text-align: right;\n",
              "    }\n",
              "</style>\n",
              "<table border=\"1\" class=\"dataframe\">\n",
              "  <thead>\n",
              "    <tr style=\"text-align: right;\">\n",
              "      <th></th>\n",
              "      <th>runs</th>\n",
              "      <th>balls</th>\n",
              "      <th>wickets</th>\n",
              "    </tr>\n",
              "    <tr>\n",
              "      <th>bowler</th>\n",
              "      <th></th>\n",
              "      <th></th>\n",
              "      <th></th>\n",
              "    </tr>\n",
              "  </thead>\n",
              "  <tbody>\n",
              "    <tr>\n",
              "      <th>A Nehra</th>\n",
              "      <td>738</td>\n",
              "      <td>909.0</td>\n",
              "      <td>46</td>\n",
              "    </tr>\n",
              "    <tr>\n",
              "      <th>RP Singh</th>\n",
              "      <td>734</td>\n",
              "      <td>924.0</td>\n",
              "      <td>44</td>\n",
              "    </tr>\n",
              "    <tr>\n",
              "      <th>IK Pathan</th>\n",
              "      <td>662</td>\n",
              "      <td>785.0</td>\n",
              "      <td>42</td>\n",
              "    </tr>\n",
              "    <tr>\n",
              "      <th>PP Chawla</th>\n",
              "      <td>681</td>\n",
              "      <td>894.0</td>\n",
              "      <td>37</td>\n",
              "    </tr>\n",
              "    <tr>\n",
              "      <th>MM Patel</th>\n",
              "      <td>596</td>\n",
              "      <td>726.0</td>\n",
              "      <td>35</td>\n",
              "    </tr>\n",
              "    <tr>\n",
              "      <th>A Mishra</th>\n",
              "      <td>622</td>\n",
              "      <td>785.0</td>\n",
              "      <td>35</td>\n",
              "    </tr>\n",
              "    <tr>\n",
              "      <th>JA Morkel</th>\n",
              "      <td>559</td>\n",
              "      <td>744.0</td>\n",
              "      <td>35</td>\n",
              "    </tr>\n",
              "    <tr>\n",
              "      <th>SK Warne</th>\n",
              "      <td>651</td>\n",
              "      <td>809.0</td>\n",
              "      <td>34</td>\n",
              "    </tr>\n",
              "    <tr>\n",
              "      <th>P Kumar</th>\n",
              "      <td>695</td>\n",
              "      <td>931.0</td>\n",
              "      <td>34</td>\n",
              "    </tr>\n",
              "    <tr>\n",
              "      <th>Z Khan</th>\n",
              "      <td>636</td>\n",
              "      <td>836.0</td>\n",
              "      <td>34</td>\n",
              "    </tr>\n",
              "    <tr>\n",
              "      <th>PP Ojha</th>\n",
              "      <td>587</td>\n",
              "      <td>677.0</td>\n",
              "      <td>32</td>\n",
              "    </tr>\n",
              "    <tr>\n",
              "      <th>SL Malinga</th>\n",
              "      <td>613</td>\n",
              "      <td>722.0</td>\n",
              "      <td>32</td>\n",
              "    </tr>\n",
              "    <tr>\n",
              "      <th>PJ Sangwan</th>\n",
              "      <td>562</td>\n",
              "      <td>778.0</td>\n",
              "      <td>31</td>\n",
              "    </tr>\n",
              "    <tr>\n",
              "      <th>A Kumble</th>\n",
              "      <td>594</td>\n",
              "      <td>667.0</td>\n",
              "      <td>30</td>\n",
              "    </tr>\n",
              "    <tr>\n",
              "      <th>B Kumar</th>\n",
              "      <td>324</td>\n",
              "      <td>384.0</td>\n",
              "      <td>28</td>\n",
              "    </tr>\n",
              "    <tr>\n",
              "      <th>M Muralitharan</th>\n",
              "      <td>673</td>\n",
              "      <td>683.0</td>\n",
              "      <td>27</td>\n",
              "    </tr>\n",
              "    <tr>\n",
              "      <th>JD Unadkat</th>\n",
              "      <td>279</td>\n",
              "      <td>330.0</td>\n",
              "      <td>27</td>\n",
              "    </tr>\n",
              "    <tr>\n",
              "      <th>Harbhajan Singh</th>\n",
              "      <td>577</td>\n",
              "      <td>625.0</td>\n",
              "      <td>27</td>\n",
              "    </tr>\n",
              "    <tr>\n",
              "      <th>S Sreesanth</th>\n",
              "      <td>477</td>\n",
              "      <td>647.0</td>\n",
              "      <td>25</td>\n",
              "    </tr>\n",
              "    <tr>\n",
              "      <th>SR Watson</th>\n",
              "      <td>509</td>\n",
              "      <td>641.0</td>\n",
              "      <td>25</td>\n",
              "    </tr>\n",
              "  </tbody>\n",
              "</table>\n",
              "</div>"
            ],
            "text/plain": [
              "                 runs  balls  wickets\n",
              "bowler                               \n",
              "A Nehra           738  909.0       46\n",
              "RP Singh          734  924.0       44\n",
              "IK Pathan         662  785.0       42\n",
              "PP Chawla         681  894.0       37\n",
              "MM Patel          596  726.0       35\n",
              "A Mishra          622  785.0       35\n",
              "JA Morkel         559  744.0       35\n",
              "SK Warne          651  809.0       34\n",
              "P Kumar           695  931.0       34\n",
              "Z Khan            636  836.0       34\n",
              "PP Ojha           587  677.0       32\n",
              "SL Malinga        613  722.0       32\n",
              "PJ Sangwan        562  778.0       31\n",
              "A Kumble          594  667.0       30\n",
              "B Kumar           324  384.0       28\n",
              "M Muralitharan    673  683.0       27\n",
              "JD Unadkat        279  330.0       27\n",
              "Harbhajan Singh   577  625.0       27\n",
              "S Sreesanth       477  647.0       25\n",
              "SR Watson         509  641.0       25"
            ]
          },
          "metadata": {
            "tags": []
          },
          "execution_count": 53
        }
      ]
    },
    {
      "cell_type": "code",
      "metadata": {
        "colab": {
          "base_uri": "https://localhost:8080/",
          "height": 696
        },
        "id": "uRnbHCfoYQfx",
        "outputId": "71b83a3f-0d4e-40de-9b9e-8144410c2a5a"
      },
      "source": [
        "TopBowlers['economy'] = TopBowlers['runs']/(TopBowlers['balls']/6)\n",
        "TopBowlers = TopBowlers.sort_values(['economy'], ascending=True)[:20]\n",
        "TopBowlers"
      ],
      "execution_count": 54,
      "outputs": [
        {
          "output_type": "execute_result",
          "data": {
            "text/html": [
              "<div>\n",
              "<style scoped>\n",
              "    .dataframe tbody tr th:only-of-type {\n",
              "        vertical-align: middle;\n",
              "    }\n",
              "\n",
              "    .dataframe tbody tr th {\n",
              "        vertical-align: top;\n",
              "    }\n",
              "\n",
              "    .dataframe thead th {\n",
              "        text-align: right;\n",
              "    }\n",
              "</style>\n",
              "<table border=\"1\" class=\"dataframe\">\n",
              "  <thead>\n",
              "    <tr style=\"text-align: right;\">\n",
              "      <th></th>\n",
              "      <th>runs</th>\n",
              "      <th>balls</th>\n",
              "      <th>wickets</th>\n",
              "      <th>economy</th>\n",
              "    </tr>\n",
              "    <tr>\n",
              "      <th>bowler</th>\n",
              "      <th></th>\n",
              "      <th></th>\n",
              "      <th></th>\n",
              "      <th></th>\n",
              "    </tr>\n",
              "  </thead>\n",
              "  <tbody>\n",
              "    <tr>\n",
              "      <th>PJ Sangwan</th>\n",
              "      <td>562</td>\n",
              "      <td>778.0</td>\n",
              "      <td>31</td>\n",
              "      <td>4.334190</td>\n",
              "    </tr>\n",
              "    <tr>\n",
              "      <th>S Sreesanth</th>\n",
              "      <td>477</td>\n",
              "      <td>647.0</td>\n",
              "      <td>25</td>\n",
              "      <td>4.423493</td>\n",
              "    </tr>\n",
              "    <tr>\n",
              "      <th>P Kumar</th>\n",
              "      <td>695</td>\n",
              "      <td>931.0</td>\n",
              "      <td>34</td>\n",
              "      <td>4.479055</td>\n",
              "    </tr>\n",
              "    <tr>\n",
              "      <th>JA Morkel</th>\n",
              "      <td>559</td>\n",
              "      <td>744.0</td>\n",
              "      <td>35</td>\n",
              "      <td>4.508065</td>\n",
              "    </tr>\n",
              "    <tr>\n",
              "      <th>Z Khan</th>\n",
              "      <td>636</td>\n",
              "      <td>836.0</td>\n",
              "      <td>34</td>\n",
              "      <td>4.564593</td>\n",
              "    </tr>\n",
              "    <tr>\n",
              "      <th>PP Chawla</th>\n",
              "      <td>681</td>\n",
              "      <td>894.0</td>\n",
              "      <td>37</td>\n",
              "      <td>4.570470</td>\n",
              "    </tr>\n",
              "    <tr>\n",
              "      <th>A Mishra</th>\n",
              "      <td>622</td>\n",
              "      <td>785.0</td>\n",
              "      <td>35</td>\n",
              "      <td>4.754140</td>\n",
              "    </tr>\n",
              "    <tr>\n",
              "      <th>SR Watson</th>\n",
              "      <td>509</td>\n",
              "      <td>641.0</td>\n",
              "      <td>25</td>\n",
              "      <td>4.764431</td>\n",
              "    </tr>\n",
              "    <tr>\n",
              "      <th>RP Singh</th>\n",
              "      <td>734</td>\n",
              "      <td>924.0</td>\n",
              "      <td>44</td>\n",
              "      <td>4.766234</td>\n",
              "    </tr>\n",
              "    <tr>\n",
              "      <th>SK Warne</th>\n",
              "      <td>651</td>\n",
              "      <td>809.0</td>\n",
              "      <td>34</td>\n",
              "      <td>4.828183</td>\n",
              "    </tr>\n",
              "    <tr>\n",
              "      <th>A Nehra</th>\n",
              "      <td>738</td>\n",
              "      <td>909.0</td>\n",
              "      <td>46</td>\n",
              "      <td>4.871287</td>\n",
              "    </tr>\n",
              "    <tr>\n",
              "      <th>MM Patel</th>\n",
              "      <td>596</td>\n",
              "      <td>726.0</td>\n",
              "      <td>35</td>\n",
              "      <td>4.925620</td>\n",
              "    </tr>\n",
              "    <tr>\n",
              "      <th>IK Pathan</th>\n",
              "      <td>662</td>\n",
              "      <td>785.0</td>\n",
              "      <td>42</td>\n",
              "      <td>5.059873</td>\n",
              "    </tr>\n",
              "    <tr>\n",
              "      <th>B Kumar</th>\n",
              "      <td>324</td>\n",
              "      <td>384.0</td>\n",
              "      <td>28</td>\n",
              "      <td>5.062500</td>\n",
              "    </tr>\n",
              "    <tr>\n",
              "      <th>JD Unadkat</th>\n",
              "      <td>279</td>\n",
              "      <td>330.0</td>\n",
              "      <td>27</td>\n",
              "      <td>5.072727</td>\n",
              "    </tr>\n",
              "    <tr>\n",
              "      <th>SL Malinga</th>\n",
              "      <td>613</td>\n",
              "      <td>722.0</td>\n",
              "      <td>32</td>\n",
              "      <td>5.094183</td>\n",
              "    </tr>\n",
              "    <tr>\n",
              "      <th>PP Ojha</th>\n",
              "      <td>587</td>\n",
              "      <td>677.0</td>\n",
              "      <td>32</td>\n",
              "      <td>5.202363</td>\n",
              "    </tr>\n",
              "    <tr>\n",
              "      <th>A Kumble</th>\n",
              "      <td>594</td>\n",
              "      <td>667.0</td>\n",
              "      <td>30</td>\n",
              "      <td>5.343328</td>\n",
              "    </tr>\n",
              "    <tr>\n",
              "      <th>Harbhajan Singh</th>\n",
              "      <td>577</td>\n",
              "      <td>625.0</td>\n",
              "      <td>27</td>\n",
              "      <td>5.539200</td>\n",
              "    </tr>\n",
              "    <tr>\n",
              "      <th>M Muralitharan</th>\n",
              "      <td>673</td>\n",
              "      <td>683.0</td>\n",
              "      <td>27</td>\n",
              "      <td>5.912152</td>\n",
              "    </tr>\n",
              "  </tbody>\n",
              "</table>\n",
              "</div>"
            ],
            "text/plain": [
              "                 runs  balls  wickets   economy\n",
              "bowler                                         \n",
              "PJ Sangwan        562  778.0       31  4.334190\n",
              "S Sreesanth       477  647.0       25  4.423493\n",
              "P Kumar           695  931.0       34  4.479055\n",
              "JA Morkel         559  744.0       35  4.508065\n",
              "Z Khan            636  836.0       34  4.564593\n",
              "PP Chawla         681  894.0       37  4.570470\n",
              "A Mishra          622  785.0       35  4.754140\n",
              "SR Watson         509  641.0       25  4.764431\n",
              "RP Singh          734  924.0       44  4.766234\n",
              "SK Warne          651  809.0       34  4.828183\n",
              "A Nehra           738  909.0       46  4.871287\n",
              "MM Patel          596  726.0       35  4.925620\n",
              "IK Pathan         662  785.0       42  5.059873\n",
              "B Kumar           324  384.0       28  5.062500\n",
              "JD Unadkat        279  330.0       27  5.072727\n",
              "SL Malinga        613  722.0       32  5.094183\n",
              "PP Ojha           587  677.0       32  5.202363\n",
              "A Kumble          594  667.0       30  5.343328\n",
              "Harbhajan Singh   577  625.0       27  5.539200\n",
              "M Muralitharan    673  683.0       27  5.912152"
            ]
          },
          "metadata": {
            "tags": []
          },
          "execution_count": 54
        }
      ]
    },
    {
      "cell_type": "code",
      "metadata": {
        "colab": {
          "base_uri": "https://localhost:8080/",
          "height": 423
        },
        "id": "aP_vAuB_YvYm",
        "outputId": "717127fa-5cbd-4c5d-bc5b-9d3e82047cbb"
      },
      "source": [
        "plt.figure(figsize=(10,5))\n",
        "plt.bar(np.arange(len(TopBowlers)),TopBowlers['economy'],color='y')\n",
        "plt.xticks(ticks=np.arange(len(TopBowlers)),labels=TopBowlers.index,rotation=90)\n",
        "plt.xlabel('Bowler')\n",
        "plt.ylabel('economy')\n",
        "plt.title('Bowlers Economy')\n",
        "plt.show()"
      ],
      "execution_count": 55,
      "outputs": [
        {
          "output_type": "display_data",
          "data": {
            "image/png": "[encoded data removed]",
            "text/plain": [
              "<Figure size 720x360 with 1 Axes>"
            ]
          },
          "metadata": {
            "tags": [],
            "needs_background": "light"
          }
        }
      ]
    },
    {
      "cell_type": "markdown",
      "metadata": {
        "id": "JREG2F9yYy96"
      },
      "source": [
        "Wickets taken by a bowler"
      ]
    },
    {
      "cell_type": "code",
      "metadata": {
        "colab": {
          "base_uri": "https://localhost:8080/",
          "height": 586
        },
        "id": "hn3-V18zY1SN",
        "outputId": "e67a3c3f-a6b3-47ea-adc9-ee4aca062329"
      },
      "source": [
        "plt.figure(figsize=(10,8))\n",
        "plt.bar(np.arange(len(TopBowlers)),TopBowlers['wickets'],color='GREEN')\n",
        "plt.xticks(ticks=np.arange(len(TopBowlers)),labels=TopBowlers.index,rotation=90)\n",
        "plt.xlabel('Bowler')\n",
        "plt.ylabel('wickets')\n",
        "plt.title('Bowlers Wickets')\n",
        "plt.show()"
      ],
      "execution_count": 56,
      "outputs": [
        {
          "output_type": "display_data",
          "data": {
            "image/png": "[encoded data removed]",
            "text/plain": [
              "<Figure size 720x576 with 1 Axes>"
            ]
          },
          "metadata": {
            "tags": [],
            "needs_background": "light"
          }
        }
      ]
    },
    {
      "cell_type": "markdown",
      "metadata": {
        "id": "8LGDgF47Y5gG"
      },
      "source": [
        "Top 5 Bowlers"
      ]
    },
    {
      "cell_type": "code",
      "metadata": {
        "colab": {
          "base_uri": "https://localhost:8080/",
          "height": 354
        },
        "id": "SkWa8S0lY7gd",
        "outputId": "8644b760-ebd6-49d6-b57a-04f47ba1acbf"
      },
      "source": [
        "data_deliveries.groupby('bowler')['player_dismissed'].count().sort_values(ascending=False).head(5).plot(kind='bar', color='r')\n",
        "plt.title(\"Top 5 Bowlers\")"
      ],
      "execution_count": 57,
      "outputs": [
        {
          "output_type": "execute_result",
          "data": {
            "text/plain": [
              "Text(0.5, 1.0, 'Top 5 Bowlers')"
            ]
          },
          "metadata": {
            "tags": []
          },
          "execution_count": 57
        },
        {
          "output_type": "display_data",
          "data": {
            "image/png": "[encoded data removed]",
            "text/plain": [
              "<Figure size 432x288 with 1 Axes>"
            ]
          },
          "metadata": {
            "tags": [],
            "needs_background": "light"
          }
        }
      ]
    },
    {
      "cell_type": "markdown",
      "metadata": {
        "id": "dn5AaRBeZAIz"
      },
      "source": [
        "Harbhajan Singh and A Mishra took the most wickets, so probability is that in whichever team they are that team has high chances of winning by wickets."
      ]
    },
    {
      "cell_type": "markdown",
      "metadata": {
        "id": "Hs7yWMZfZBbo"
      },
      "source": [
        "## 5. Conclusion:\n",
        "1. Best Team is Mumbai Indians.\n",
        "2. Best Player is CH Gayle.\n",
        "3. Winning Toss and Batting first are a factor that affect the victory.\n",
        "4. Most matches have been played in Eden Gardens followed by Wankhede Stadium.\n",
        "5. Teams who win toss choose to field first.\n",
        "6. Teams who choose to field after winning the toss have high chances of winning.\n",
        "7. Virat Kohli and S.K Raina Scored the most runs, so probability is that in whichever team they are that team has high chances of winning by runs and comapnies can also hire them to endorse products of batting.\n",
        "8. Harbhajan Singh and A Mishra took the most wickets, so probability is that in whichever team they are that team has high chances of winning by wickets and comapnies can also hire them to endorse products of bowling.\n",
        "9. op Players like, CH Gayle, AB de Villiers, MS Dhoni, and DA Warner can be hired by many companies to endorse their products as they have a huge fanbase."
      ]
    }
  ]
}